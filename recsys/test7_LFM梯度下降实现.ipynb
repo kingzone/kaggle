{
 "cells": [
  {
   "cell_type": "code",
   "execution_count": 3,
   "metadata": {},
   "outputs": [],
   "source": [
    "import numpy as np\n",
    "import pandas as pd"
   ]
  },
  {
   "cell_type": "code",
   "execution_count": 2,
   "metadata": {},
   "outputs": [
    {
     "data": {
      "text/plain": [
       "5"
      ]
     },
     "execution_count": 2,
     "metadata": {},
     "output_type": "execute_result"
    }
   ],
   "source": [
    "# 评分矩阵R\n",
    "R = np.array([[4,0,2,0,1],\n",
    "             [0,2,3,0,0],\n",
    "             [1,0,2,4,0],\n",
    "             [5,0,0,3,1],\n",
    "             [0,0,1,5,1],\n",
    "             [0,3,2,4,1],])\n",
    "len(R[0])"
   ]
  },
  {
   "cell_type": "code",
   "execution_count": 4,
   "metadata": {},
   "outputs": [],
   "source": [
    "\"\"\"\n",
    "@输入参数：\n",
    "R：M*N 的评分矩阵\n",
    "K：隐特征向量维度\n",
    "max_iter: 最大迭代次数\n",
    "alpha：步长\n",
    "lamda：正则化系数\n",
    "\n",
    "@输出：\n",
    "分解之后的 P，Q\n",
    "P：初始化用户特征矩阵M*K\n",
    "Q：初始化物品特征矩阵N*K\n",
    "\"\"\"\n",
    "\n",
    "# 给定超参数\n",
    "\n",
    "K = 5\n",
    "max_iter = 5000\n",
    "alpha = 0.0002\n",
    "lamda = 0.004\n",
    "\n",
    "def LFM_grad_desc(R, K=2, max_iter=1000, alpha=0.0001, lamda = 0.002):\n",
    "    M = len(R)\n",
    "    N = len(R[0])\n",
    "\n",
    "    P = np.random.rand(M, K)\n",
    "    Q = np.random.rand(N, K)\n",
    "    Q = Q.T\n",
    "\n",
    "    # 迭代\n",
    "    for step in range(max_iter):\n",
    "        # 对所有的用户u，物品i遍历，对应的特征向量Pu，Qi\n",
    "        for u in range(M):\n",
    "            for i in range(N):\n",
    "                # 对于每一个大于0的评分，求出预测评分误差\n",
    "                if R[u][i] > 0:\n",
    "                    eui = np.dot(P[u,:], Q[:,i]) - R[u][i]\n",
    "                    # 代入公式，梯度下降更新Pu和Qi\n",
    "                    for k in range(K):\n",
    "                        P[u][k] = P[u][k] - alpha * (2*eui * Q[k][i] + 2 * lamda * P[u][k])\n",
    "                        Q[k][i] = Q[k][i] - alpha * (2*eui * P[u][k] + 2 *lamda * Q[k][i])\n",
    "        # u, i遍历完成，所有特征向量更新完成，可以得到P，Q\n",
    "        predR = np.dot(P, Q)\n",
    "\n",
    "        # 迭代结束条件：计算当前loss\n",
    "        cost = 0\n",
    "        for u in range(M):\n",
    "            for i in range(N):\n",
    "                if R[u][i] > 0:\n",
    "                    cost += (np.dot(P[u,:], Q[:,i]) - R[u][i]) ** 2\n",
    "                    # 加上正则化项\n",
    "                    for k in range(K):\n",
    "                        cost += lamda * (P[u][k]**2 + Q[k][i]**2)\n",
    "        if cost < 0.0001:\n",
    "            break\n",
    "\n",
    "    return P, Q.T, cost"
   ]
  },
  {
   "cell_type": "code",
   "execution_count": 6,
   "metadata": {},
   "outputs": [
    {
     "name": "stdout",
     "output_type": "stream",
     "text": [
      "[[ 1.06775611  0.49029882  0.89776846  0.77621858  0.83832292]\n",
      " [ 0.18631968  0.71949575  0.01231543  1.41760591  0.43035172]\n",
      " [ 0.01725054 -0.14442411  0.66590499  1.01162477  1.16302205]\n",
      " [ 1.35275788  1.28289837  0.4642324   0.4951377  -0.01490516]\n",
      " [ 1.21720531  0.44572357  1.08540188  0.13765771  1.09430577]\n",
      " [ 0.64252188  1.06699904  0.54505902  0.49672473  1.05101248]]\n",
      "[[ 2.01765714  1.34498725  0.72143371  0.42247709  0.23052808]\n",
      " [ 0.53157674  0.5643566   1.01382178  0.74153258  1.0461196 ]\n",
      " [ 0.0669754   0.67582204 -0.03354961  1.62459102  0.41504238]\n",
      " [ 1.15344913  0.21279378  1.37810503  1.10782617  1.67402973]\n",
      " [ 0.06859985  0.36155169  0.59207311  0.30378059  0.05423066]]\n",
      "0.554460644140371\n"
     ]
    },
    {
     "data": {
      "text/plain": [
       "array([[3.98268337, 3.2070523 , 1.98172563, 4.83644685, 1.06332379],\n",
       "       [2.05064078, 2.01898136, 2.97996076, 2.67586894, 0.73418746],\n",
       "       [1.01646093, 2.56958516, 2.00738946, 3.97448996, 0.71361447],\n",
       "       [4.99554472, 2.26532385, 1.74024765, 2.996666  , 0.9810975 ],\n",
       "       [4.14886644, 3.24584153, 1.02415857, 4.97903059, 0.98845215],\n",
       "       [3.57685562, 2.96413266, 1.98903736, 4.02902641, 0.96045944]])"
      ]
     },
     "execution_count": 6,
     "metadata": {},
     "output_type": "execute_result"
    }
   ],
   "source": [
    "# 测试\n",
    "P, Q, cost = LFM_grad_desc(R, K, max_iter, alpha, lamda)\n",
    "print(P)\n",
    "print(Q)\n",
    "print(cost)\n",
    "predR = P.dot(Q.T)\n",
    "predR"
   ]
  },
  {
   "cell_type": "code",
   "execution_count": null,
   "metadata": {},
   "outputs": [],
   "source": []
  }
 ],
 "metadata": {
  "interpreter": {
   "hash": "1818eede15cb1ed47fb467097a2f9111c2d773f5055dd3d4a448c36b65ae3af8"
  },
  "kernelspec": {
   "display_name": "Python 3.7.13 ('tf2')",
   "language": "python",
   "name": "python3"
  },
  "language_info": {
   "codemirror_mode": {
    "name": "ipython",
    "version": 3
   },
   "file_extension": ".py",
   "mimetype": "text/x-python",
   "name": "python",
   "nbconvert_exporter": "python",
   "pygments_lexer": "ipython3",
   "version": "3.7.13"
  },
  "orig_nbformat": 4
 },
 "nbformat": 4,
 "nbformat_minor": 2
}
