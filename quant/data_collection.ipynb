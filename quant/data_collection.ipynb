{
 "cells": [
  {
   "cell_type": "code",
   "execution_count": 2,
   "metadata": {},
   "outputs": [
    {
     "ename": "ImportError",
     "evalue": "No module named tushare",
     "output_type": "error",
     "traceback": [
      "\u001b[0;31m---------------------------------------------------------------------------\u001b[0m",
      "\u001b[0;31mImportError\u001b[0m                               Traceback (most recent call last)",
      "\u001b[0;32m<ipython-input-2-472b117c2b5b>\u001b[0m in \u001b[0;36m<module>\u001b[0;34m()\u001b[0m\n\u001b[1;32m      1\u001b[0m \u001b[0;34m\u001b[0m\u001b[0m\n\u001b[0;32m----> 2\u001b[0;31m \u001b[0;32mimport\u001b[0m \u001b[0mtushare\u001b[0m \u001b[0;32mas\u001b[0m \u001b[0mts\u001b[0m\u001b[0;34m\u001b[0m\u001b[0m\n\u001b[0m\u001b[1;32m      3\u001b[0m \u001b[0;32mfrom\u001b[0m \u001b[0mdatetime\u001b[0m \u001b[0;32mimport\u001b[0m \u001b[0mdatetime\u001b[0m\u001b[0;34m,\u001b[0m \u001b[0mtimedelta\u001b[0m\u001b[0;34m\u001b[0m\u001b[0m\n\u001b[1;32m      4\u001b[0m \u001b[0;34m\u001b[0m\u001b[0m\n\u001b[1;32m      5\u001b[0m \u001b[0;32mimport\u001b[0m \u001b[0mxlrd\u001b[0m\u001b[0;34m\u001b[0m\u001b[0m\n",
      "\u001b[0;31mImportError\u001b[0m: No module named tushare"
     ]
    }
   ],
   "source": [
    "#coding=utf-8\n",
    "import tushare as ts\n",
    "from datetime import datetime, timedelta\n",
    "\n",
    "import xlrd\n",
    "\n",
    "\n",
    "def get_code_data(code, d_start, d_end):\n",
    "    # st_day = datetime.strftime(d_start, '%Y-%m-%d')\n",
    "    # end_day = datetime.strftime(d_end, '%Y-%m-%d')\n",
    "    # print(st_day,end_day)\n",
    "    try:\n",
    "        hst_data_all = ts.get_k_data(code, ktype='D', autype='None', start=d_start, end=d_end)\n",
    "        hst_data_all.to_csv('stock_data/'+code+\".csv\")\n",
    "    except:\n",
    "        print(code + \"error\")\n",
    "        return None\n",
    "\n",
    "def read_workbook(d_start,d_end):\n",
    "    workbook = xlrd.open_workbook('stocks_all_000.xls')\n",
    "    stocks = workbook.sheet_by_name(u'stocks_all')\n",
    "    all_code_data = {}\n",
    "    for j in range(1, min(3177, 3208)):\n",
    "        code = stocks.cell(j, 0).value\n",
    "        outstanding = stocks.cell(j, 1).value\n",
    "        # print(j,code,outstanding)\n",
    "        # 流通盘大于1000万股\n",
    "        if outstanding >= 0.1:\n",
    "            get_code_data(code, d_start, d_end)\n",
    "            # print(code,len(code_data))\n",
    "\n",
    "\n",
    "if __name__ == \"__main__\":\n",
    "    # get_code_data('002729','2017-01-01','2017-04-01')\n",
    "    read_workbook('2017-01-01','2017-07-31')\n"
   ]
  },
  {
   "cell_type": "code",
   "execution_count": null,
   "metadata": {
    "collapsed": true
   },
   "outputs": [],
   "source": []
  }
 ],
 "metadata": {
  "kernelspec": {
   "display_name": "Python 2",
   "language": "python",
   "name": "python2"
  },
  "language_info": {
   "codemirror_mode": {
    "name": "ipython",
    "version": 2
   },
   "file_extension": ".py",
   "mimetype": "text/x-python",
   "name": "python",
   "nbconvert_exporter": "python",
   "pygments_lexer": "ipython2",
   "version": "2.7.12"
  }
 },
 "nbformat": 4,
 "nbformat_minor": 2
}
