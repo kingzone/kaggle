{
 "cells": [
  {
   "cell_type": "code",
   "execution_count": 1,
   "metadata": {},
   "outputs": [],
   "source": [
    "# 前向传播"
   ]
  },
  {
   "cell_type": "code",
   "execution_count": 6,
   "metadata": {},
   "outputs": [
    {
     "name": "stdout",
     "output_type": "stream",
     "text": [
      "(60000, 28, 28) (60000,) <dtype: 'float32'> <dtype: 'int32'>\n"
     ]
    }
   ],
   "source": [
    "import tensorflow as tf\n",
    "from tensorflow import keras\n",
    "from tensorflow.keras import datasets\n",
    "import os\n",
    "\n",
    "os.environ[\"TF_CPP_MIN_LOG_LEVEL\"] = '2'\n",
    "\n",
    "(x,y ),_ = datasets.mnist.load_data()\n",
    "\n",
    "x = tf.convert_to_tensor(x ,dtype=tf.float32)/255.\n",
    "y = tf.convert_to_tensor(y, dtype=tf.int32)\n",
    "\n",
    "print(x.shape, y.shape, x.dtype, y.dtype)"
   ]
  },
  {
   "cell_type": "code",
   "execution_count": 7,
   "metadata": {},
   "outputs": [
    {
     "name": "stdout",
     "output_type": "stream",
     "text": [
      "tf.Tensor(1.0, shape=(), dtype=float32) tf.Tensor(0.0, shape=(), dtype=float32)\n",
      "tf.Tensor(9, shape=(), dtype=int32) tf.Tensor(0, shape=(), dtype=int32)\n"
     ]
    }
   ],
   "source": [
    "print(tf.reduce_max(x), tf.reduce_min(x))\n",
    "print(tf.reduce_max(y), tf.reduce_min(y))"
   ]
  },
  {
   "cell_type": "code",
   "execution_count": 8,
   "metadata": {},
   "outputs": [
    {
     "name": "stdout",
     "output_type": "stream",
     "text": [
      "batch: (128, 28, 28) (128,)\n"
     ]
    }
   ],
   "source": [
    "train_db = tf.data.Dataset.from_tensor_slices((x,y)).batch(128)\n",
    "train_iter = iter(train_db)\n",
    "sample = next(train_iter)\n",
    "print('batch:',sample[0].shape, sample[1].shape)"
   ]
  },
  {
   "cell_type": "code",
   "execution_count": 23,
   "metadata": {},
   "outputs": [],
   "source": [
    "w1 = tf.Variable(tf.random.truncated_normal([784,256], stddev=0.1))\n",
    "b1 = tf.Variable(tf.zeros([256]))\n",
    "w2 = tf.Variable(tf.random.truncated_normal([256,128], stddev=0.1))\n",
    "b2 = tf.Variable(tf.zeros([128]))\n",
    "w3 = tf.Variable(tf.random.truncated_normal([128,10], stddev=0.1))\n",
    "b3 = tf.Variable(tf.zeros([10]))"
   ]
  },
  {
   "cell_type": "code",
   "execution_count": 26,
   "metadata": {},
   "outputs": [
    {
     "name": "stdout",
     "output_type": "stream",
     "text": [
      "0 loss: 0.14274731278419495\n",
      "100 loss: 0.14764165878295898\n",
      "200 loss: 0.15454457700252533\n",
      "300 loss: 0.12773576378822327\n",
      "400 loss: 0.148223876953125\n",
      "0 loss: 0.12292657047510147\n",
      "100 loss: 0.13066372275352478\n",
      "200 loss: 0.13578681647777557\n",
      "300 loss: 0.11325784772634506\n",
      "400 loss: 0.1321716606616974\n",
      "0 loss: 0.10991337150335312\n",
      "100 loss: 0.11922131478786469\n",
      "200 loss: 0.1228143721818924\n",
      "300 loss: 0.1032351404428482\n",
      "400 loss: 0.12097344547510147\n",
      "0 loss: 0.10053443908691406\n",
      "100 loss: 0.1109633818268776\n",
      "200 loss: 0.11329660564661026\n",
      "300 loss: 0.09593107551336288\n",
      "400 loss: 0.11266548931598663\n",
      "0 loss: 0.09353484958410263\n",
      "100 loss: 0.10468713939189911\n",
      "200 loss: 0.1059718132019043\n",
      "300 loss: 0.09029517322778702\n",
      "400 loss: 0.106240414083004\n",
      "0 loss: 0.08804386109113693\n",
      "100 loss: 0.09969504177570343\n",
      "200 loss: 0.10020148754119873\n",
      "300 loss: 0.0858243927359581\n",
      "400 loss: 0.10115544497966766\n",
      "0 loss: 0.08363509923219681\n",
      "100 loss: 0.09564249962568283\n",
      "200 loss: 0.09543633460998535\n",
      "300 loss: 0.0822121649980545\n",
      "400 loss: 0.09698164463043213\n",
      "0 loss: 0.0799890086054802\n",
      "100 loss: 0.09224407374858856\n",
      "200 loss: 0.09143885970115662\n",
      "300 loss: 0.07919780910015106\n",
      "400 loss: 0.09346040338277817\n",
      "0 loss: 0.07690932601690292\n",
      "100 loss: 0.08933423459529877\n",
      "200 loss: 0.08803658932447433\n",
      "300 loss: 0.07661967724561691\n",
      "400 loss: 0.09042888879776001\n",
      "0 loss: 0.07424645125865936\n",
      "100 loss: 0.08677682280540466\n",
      "200 loss: 0.0851038470864296\n",
      "300 loss: 0.0743870735168457\n",
      "400 loss: 0.08778771013021469\n"
     ]
    }
   ],
   "source": [
    "lr = 1e-3\n",
    "for epoch in range(10):\n",
    "    for step, (x,y) in enumerate(train_db):\n",
    "        x = tf.reshape(x, [-1,28*28])\n",
    "        with tf.GradientTape() as tape:\n",
    "            h1 = x @ w1 + tf.broadcast_to(b1, [x.shape[0],256])\n",
    "            h1 = tf.nn.relu(h1)\n",
    "\n",
    "            h2 = h1 @ w2 +b2\n",
    "            h2 = tf.nn.relu(h2)\n",
    "            out = h2 @ w3 + b3\n",
    "\n",
    "            # mse\n",
    "            y_onehot = tf.one_hot(y, depth=10)\n",
    "\n",
    "            loss = tf.square(y_onehot-out)\n",
    "            loss = tf.reduce_mean(loss)\n",
    "\n",
    "        grads = tape.gradient(loss, [w1, b1, w2, b2, w3, b3])\n",
    "        # print(grads)\n",
    "        # w1 = w1 - lr * grads[0]\n",
    "        # b1 = b1 - lr * grads[1]\n",
    "        # w2 = w2 - lr * grads[2]\n",
    "        # b2 = b2 - lr * grads[3]\n",
    "        # w3 = w3 - lr * grads[4]\n",
    "        # b3 = b3 - lr * grads[5]\n",
    "        w1.assign_sub(lr * grads[0])\n",
    "        b1.assign_sub(lr * grads[1])\n",
    "        w2.assign_sub(lr * grads[2])\n",
    "        b2.assign_sub(lr * grads[3])\n",
    "        w3.assign_sub(lr * grads[4])\n",
    "        b3.assign_sub(lr * grads[5])\n",
    "\n",
    "        # print(isinstance(b3, tf.Variable))\n",
    "        # print(isinstance(b3, tf.Tensor))\n",
    "\n",
    "        if step % 100 == 0:\n",
    "            print(step, 'loss:', float(loss))\n"
   ]
  },
  {
   "cell_type": "code",
   "execution_count": null,
   "metadata": {},
   "outputs": [],
   "source": []
  },
  {
   "cell_type": "markdown",
   "metadata": {},
   "source": [
    "合并与切割"
   ]
  },
  {
   "cell_type": "code",
   "execution_count": 29,
   "metadata": {},
   "outputs": [
    {
     "data": {
      "text/plain": [
       "TensorShape([6, 35, 8])"
      ]
     },
     "execution_count": 29,
     "metadata": {},
     "output_type": "execute_result"
    }
   ],
   "source": [
    "a = tf.ones([4,35,8])\n",
    "b = tf.ones([2,35,8])\n",
    "c = tf.concat([a, b], axis=0)\n",
    "c.shape"
   ]
  },
  {
   "cell_type": "code",
   "execution_count": 30,
   "metadata": {},
   "outputs": [
    {
     "data": {
      "text/plain": [
       "TensorShape([4, 34, 8])"
      ]
     },
     "execution_count": 30,
     "metadata": {},
     "output_type": "execute_result"
    }
   ],
   "source": [
    "a = tf.ones([4,32,8])\n",
    "b = tf.ones([4,2,8])\n",
    "c = tf.concat([a,b], axis=1)\n",
    "c.shape"
   ]
  },
  {
   "cell_type": "code",
   "execution_count": 31,
   "metadata": {},
   "outputs": [
    {
     "data": {
      "text/plain": [
       "TensorShape([4, 35, 16])"
      ]
     },
     "execution_count": 31,
     "metadata": {},
     "output_type": "execute_result"
    }
   ],
   "source": [
    "a = tf.ones([4,35,8])\n",
    "b = tf.ones([4,35,8])\n",
    "c = tf.concat([a,b], axis=-1)\n",
    "c.shape"
   ]
  },
  {
   "cell_type": "code",
   "execution_count": 33,
   "metadata": {},
   "outputs": [
    {
     "data": {
      "text/plain": [
       "TensorShape([2, 4, 35, 8])"
      ]
     },
     "execution_count": 33,
     "metadata": {},
     "output_type": "execute_result"
    }
   ],
   "source": [
    "c = tf.stack([a,b], axis=0)\n",
    "c.shape"
   ]
  },
  {
   "cell_type": "code",
   "execution_count": 34,
   "metadata": {},
   "outputs": [
    {
     "data": {
      "text/plain": [
       "TensorShape([4, 35, 8, 2])"
      ]
     },
     "execution_count": 34,
     "metadata": {},
     "output_type": "execute_result"
    }
   ],
   "source": [
    "c = tf.stack([a,b], axis=3)\n",
    "c.shape"
   ]
  },
  {
   "cell_type": "code",
   "execution_count": 35,
   "metadata": {},
   "outputs": [
    {
     "data": {
      "text/plain": [
       "TensorShape([2, 4, 35, 8])"
      ]
     },
     "execution_count": 35,
     "metadata": {},
     "output_type": "execute_result"
    }
   ],
   "source": [
    "a = tf.ones([4,35,8])\n",
    "b = tf.ones([4,35,8])\n",
    "c = tf.stack([a,b])\n",
    "c.shape"
   ]
  },
  {
   "cell_type": "code",
   "execution_count": 36,
   "metadata": {},
   "outputs": [
    {
     "data": {
      "text/plain": [
       "(TensorShape([4, 35, 8]), TensorShape([4, 35, 8]))"
      ]
     },
     "execution_count": 36,
     "metadata": {},
     "output_type": "execute_result"
    }
   ],
   "source": [
    "aa, bb = tf.unstack(c)\n",
    "aa.shape, bb.shape"
   ]
  },
  {
   "cell_type": "code",
   "execution_count": 42,
   "metadata": {},
   "outputs": [
    {
     "data": {
      "text/plain": [
       "(TensorShape([2, 4, 35]), 8)"
      ]
     },
     "execution_count": 42,
     "metadata": {},
     "output_type": "execute_result"
    }
   ],
   "source": [
    "res = tf.unstack(c, axis=3)\n",
    "res[0].shape, len(res)"
   ]
  },
  {
   "cell_type": "code",
   "execution_count": 43,
   "metadata": {},
   "outputs": [
    {
     "data": {
      "text/plain": [
       "2"
      ]
     },
     "execution_count": 43,
     "metadata": {},
     "output_type": "execute_result"
    }
   ],
   "source": [
    "res = tf.split(c, axis=3, num_or_size_splits=2)\n",
    "len(res)"
   ]
  },
  {
   "cell_type": "code",
   "execution_count": 45,
   "metadata": {},
   "outputs": [
    {
     "data": {
      "text/plain": [
       "TensorShape([2, 4, 35, 4])"
      ]
     },
     "execution_count": 45,
     "metadata": {},
     "output_type": "execute_result"
    }
   ],
   "source": [
    "res[0].shape"
   ]
  },
  {
   "cell_type": "code",
   "execution_count": 46,
   "metadata": {},
   "outputs": [
    {
     "data": {
      "text/plain": [
       "TensorShape([2, 4, 35, 2])"
      ]
     },
     "execution_count": 46,
     "metadata": {},
     "output_type": "execute_result"
    }
   ],
   "source": [
    "res = tf.split(c, axis=3, num_or_size_splits=[2,2,4])\n",
    "res[0].shape"
   ]
  },
  {
   "cell_type": "code",
   "execution_count": null,
   "metadata": {},
   "outputs": [],
   "source": []
  },
  {
   "cell_type": "markdown",
   "metadata": {},
   "source": [
    "数据统计"
   ]
  }
 ],
 "metadata": {
  "interpreter": {
   "hash": "1818eede15cb1ed47fb467097a2f9111c2d773f5055dd3d4a448c36b65ae3af8"
  },
  "kernelspec": {
   "display_name": "Python 3.7.13 ('tf2')",
   "language": "python",
   "name": "python3"
  },
  "language_info": {
   "codemirror_mode": {
    "name": "ipython",
    "version": 3
   },
   "file_extension": ".py",
   "mimetype": "text/x-python",
   "name": "python",
   "nbconvert_exporter": "python",
   "pygments_lexer": "ipython3",
   "version": "3.7.13"
  },
  "orig_nbformat": 4
 },
 "nbformat": 4,
 "nbformat_minor": 2
}
