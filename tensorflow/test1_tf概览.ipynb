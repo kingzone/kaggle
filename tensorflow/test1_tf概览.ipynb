{
 "cells": [
  {
   "cell_type": "code",
   "execution_count": 1,
   "metadata": {},
   "outputs": [],
   "source": [
    "import tensorflow as tf"
   ]
  },
  {
   "cell_type": "code",
   "execution_count": 2,
   "metadata": {},
   "outputs": [
    {
     "name": "stderr",
     "output_type": "stream",
     "text": [
      "2022-04-27 16:10:30.596781: I tensorflow/core/platform/cpu_feature_guard.cc:151] This TensorFlow binary is optimized with oneAPI Deep Neural Network Library (oneDNN) to use the following CPU instructions in performance-critical operations:  SSE4.1 SSE4.2 AVX AVX2 FMA\n",
      "To enable them in other operations, rebuild TensorFlow with the appropriate compiler flags.\n"
     ]
    }
   ],
   "source": [
    "with tf.device(\"cpu\"):\n",
    "    a = tf.constant([1])"
   ]
  },
  {
   "cell_type": "code",
   "execution_count": 3,
   "metadata": {},
   "outputs": [],
   "source": [
    "with tf.device(\"gpu\"):\n",
    "    b = tf.range(4)"
   ]
  },
  {
   "cell_type": "code",
   "execution_count": 4,
   "metadata": {},
   "outputs": [
    {
     "data": {
      "text/plain": [
       "'/job:localhost/replica:0/task:0/device:CPU:0'"
      ]
     },
     "execution_count": 4,
     "metadata": {},
     "output_type": "execute_result"
    }
   ],
   "source": [
    "a.device"
   ]
  },
  {
   "cell_type": "code",
   "execution_count": 5,
   "metadata": {},
   "outputs": [
    {
     "data": {
      "text/plain": [
       "'/job:localhost/replica:0/task:0/device:CPU:0'"
      ]
     },
     "execution_count": 5,
     "metadata": {},
     "output_type": "execute_result"
    }
   ],
   "source": [
    "b.device"
   ]
  },
  {
   "cell_type": "code",
   "execution_count": 6,
   "metadata": {},
   "outputs": [
    {
     "data": {
      "text/plain": [
       "array([0, 1, 2, 3], dtype=int32)"
      ]
     },
     "execution_count": 6,
     "metadata": {},
     "output_type": "execute_result"
    }
   ],
   "source": [
    "b.numpy()"
   ]
  },
  {
   "cell_type": "code",
   "execution_count": 7,
   "metadata": {},
   "outputs": [
    {
     "data": {
      "text/plain": [
       "1"
      ]
     },
     "execution_count": 7,
     "metadata": {},
     "output_type": "execute_result"
    }
   ],
   "source": [
    "b.ndim"
   ]
  },
  {
   "cell_type": "code",
   "execution_count": 8,
   "metadata": {},
   "outputs": [
    {
     "data": {
      "text/plain": [
       "<tf.Tensor: shape=(), dtype=int32, numpy=1>"
      ]
     },
     "execution_count": 8,
     "metadata": {},
     "output_type": "execute_result"
    }
   ],
   "source": [
    "tf.rank(b)"
   ]
  },
  {
   "cell_type": "code",
   "execution_count": 9,
   "metadata": {},
   "outputs": [
    {
     "data": {
      "text/plain": [
       "<tf.Tensor: shape=(), dtype=int32, numpy=3>"
      ]
     },
     "execution_count": 9,
     "metadata": {},
     "output_type": "execute_result"
    }
   ],
   "source": [
    "tf.rank(tf.ones([2,2,2]))"
   ]
  },
  {
   "cell_type": "code",
   "execution_count": 10,
   "metadata": {},
   "outputs": [
    {
     "ename": "AttributeError",
     "evalue": "Tensor.name is meaningless when eager execution is enabled.",
     "output_type": "error",
     "traceback": [
      "\u001b[0;31m---------------------------------------------------------------------------\u001b[0m",
      "\u001b[0;31mAttributeError\u001b[0m                            Traceback (most recent call last)",
      "\u001b[0;32m/var/folders/g4/3cyxljxs7l37yd0xy9xtbnyc0000gn/T/ipykernel_35051/1674586819.py\u001b[0m in \u001b[0;36m<module>\u001b[0;34m\u001b[0m\n\u001b[0;32m----> 1\u001b[0;31m \u001b[0mb\u001b[0m\u001b[0;34m.\u001b[0m\u001b[0mname\u001b[0m\u001b[0;34m\u001b[0m\u001b[0;34m\u001b[0m\u001b[0m\n\u001b[0m",
      "\u001b[0;32m~/opt/anaconda3/envs/tf2/lib/python3.7/site-packages/tensorflow/python/framework/ops.py\u001b[0m in \u001b[0;36m__getattr__\u001b[0;34m(self, name)\u001b[0m\n\u001b[1;32m    440\u001b[0m         \u001b[0;32mfrom\u001b[0m \u001b[0mtensorflow\u001b[0m\u001b[0;34m.\u001b[0m\u001b[0mpython\u001b[0m\u001b[0;34m.\u001b[0m\u001b[0mops\u001b[0m\u001b[0;34m.\u001b[0m\u001b[0mnumpy_ops\u001b[0m \u001b[0;32mimport\u001b[0m \u001b[0mnp_config\u001b[0m\u001b[0;34m\u001b[0m\u001b[0;34m\u001b[0m\u001b[0m\n\u001b[1;32m    441\u001b[0m         np_config.enable_numpy_behavior()\"\"\".format(type(self).__name__, name))\n\u001b[0;32m--> 442\u001b[0;31m     \u001b[0mself\u001b[0m\u001b[0;34m.\u001b[0m\u001b[0m__getattribute__\u001b[0m\u001b[0;34m(\u001b[0m\u001b[0mname\u001b[0m\u001b[0;34m)\u001b[0m\u001b[0;34m\u001b[0m\u001b[0;34m\u001b[0m\u001b[0m\n\u001b[0m\u001b[1;32m    443\u001b[0m \u001b[0;34m\u001b[0m\u001b[0m\n\u001b[1;32m    444\u001b[0m   \u001b[0;34m@\u001b[0m\u001b[0mstaticmethod\u001b[0m\u001b[0;34m\u001b[0m\u001b[0;34m\u001b[0m\u001b[0m\n",
      "\u001b[0;32m~/opt/anaconda3/envs/tf2/lib/python3.7/site-packages/tensorflow/python/framework/ops.py\u001b[0m in \u001b[0;36mname\u001b[0;34m(self)\u001b[0m\n\u001b[1;32m   1309\u001b[0m   \u001b[0;32mdef\u001b[0m \u001b[0mname\u001b[0m\u001b[0;34m(\u001b[0m\u001b[0mself\u001b[0m\u001b[0;34m)\u001b[0m\u001b[0;34m:\u001b[0m\u001b[0;34m\u001b[0m\u001b[0;34m\u001b[0m\u001b[0m\n\u001b[1;32m   1310\u001b[0m     raise AttributeError(\n\u001b[0;32m-> 1311\u001b[0;31m         \"Tensor.name is meaningless when eager execution is enabled.\")\n\u001b[0m\u001b[1;32m   1312\u001b[0m \u001b[0;34m\u001b[0m\u001b[0m\n\u001b[1;32m   1313\u001b[0m   \u001b[0;34m@\u001b[0m\u001b[0mproperty\u001b[0m\u001b[0;34m\u001b[0m\u001b[0;34m\u001b[0m\u001b[0m\n",
      "\u001b[0;31mAttributeError\u001b[0m: Tensor.name is meaningless when eager execution is enabled."
     ]
    }
   ],
   "source": [
    "b.name"
   ]
  },
  {
   "cell_type": "code",
   "execution_count": 11,
   "metadata": {},
   "outputs": [
    {
     "data": {
      "text/plain": [
       "TensorShape([4])"
      ]
     },
     "execution_count": 11,
     "metadata": {},
     "output_type": "execute_result"
    }
   ],
   "source": [
    "b.shape"
   ]
  },
  {
   "cell_type": "code",
   "execution_count": 12,
   "metadata": {},
   "outputs": [
    {
     "data": {
      "text/plain": [
       "True"
      ]
     },
     "execution_count": 12,
     "metadata": {},
     "output_type": "execute_result"
    }
   ],
   "source": [
    "tf.is_tensor(b)"
   ]
  },
  {
   "cell_type": "code",
   "execution_count": 13,
   "metadata": {},
   "outputs": [
    {
     "data": {
      "text/plain": [
       "tf.int32"
      ]
     },
     "execution_count": 13,
     "metadata": {},
     "output_type": "execute_result"
    }
   ],
   "source": [
    "b.dtype"
   ]
  },
  {
   "cell_type": "code",
   "execution_count": 14,
   "metadata": {},
   "outputs": [],
   "source": [
    "import numpy as np\n",
    "a = np.arange(5)"
   ]
  },
  {
   "cell_type": "code",
   "execution_count": 15,
   "metadata": {},
   "outputs": [
    {
     "data": {
      "text/plain": [
       "<tf.Tensor: shape=(5,), dtype=int32, numpy=array([0, 1, 2, 3, 4], dtype=int32)>"
      ]
     },
     "execution_count": 15,
     "metadata": {},
     "output_type": "execute_result"
    }
   ],
   "source": [
    "aa = tf.convert_to_tensor(a, dtype=tf.int32)\n",
    "aa"
   ]
  },
  {
   "cell_type": "code",
   "execution_count": 16,
   "metadata": {},
   "outputs": [
    {
     "data": {
      "text/plain": [
       "<tf.Tensor: shape=(5,), dtype=float32, numpy=array([0., 1., 2., 3., 4.], dtype=float32)>"
      ]
     },
     "execution_count": 16,
     "metadata": {},
     "output_type": "execute_result"
    }
   ],
   "source": [
    "tf.cast(aa, dtype=tf.float32)"
   ]
  },
  {
   "cell_type": "code",
   "execution_count": 17,
   "metadata": {},
   "outputs": [
    {
     "data": {
      "text/plain": [
       "<tf.Tensor: shape=(2,), dtype=bool, numpy=array([False,  True])>"
      ]
     },
     "execution_count": 17,
     "metadata": {},
     "output_type": "execute_result"
    }
   ],
   "source": [
    "b = tf.constant([0,1])\n",
    "bb = tf.cast(b, dtype=tf.bool)\n",
    "bb"
   ]
  },
  {
   "cell_type": "code",
   "execution_count": 18,
   "metadata": {},
   "outputs": [
    {
     "data": {
      "text/plain": [
       "'Variable:0'"
      ]
     },
     "execution_count": 18,
     "metadata": {},
     "output_type": "execute_result"
    }
   ],
   "source": [
    "a = tf.range(5)\n",
    "b = tf.Variable(a)\n",
    "b.dtype\n",
    "b.name\n"
   ]
  },
  {
   "cell_type": "code",
   "execution_count": 19,
   "metadata": {},
   "outputs": [
    {
     "data": {
      "text/plain": [
       "False"
      ]
     },
     "execution_count": 19,
     "metadata": {},
     "output_type": "execute_result"
    }
   ],
   "source": [
    "isinstance(b, tf.Tensor)"
   ]
  },
  {
   "cell_type": "code",
   "execution_count": 20,
   "metadata": {},
   "outputs": [
    {
     "data": {
      "text/plain": [
       "True"
      ]
     },
     "execution_count": 20,
     "metadata": {},
     "output_type": "execute_result"
    }
   ],
   "source": [
    "tf.is_tensor(b)"
   ]
  },
  {
   "cell_type": "code",
   "execution_count": 21,
   "metadata": {},
   "outputs": [
    {
     "data": {
      "text/plain": [
       "True"
      ]
     },
     "execution_count": 21,
     "metadata": {},
     "output_type": "execute_result"
    }
   ],
   "source": [
    "isinstance(b, tf.Variable)"
   ]
  },
  {
   "cell_type": "code",
   "execution_count": 22,
   "metadata": {},
   "outputs": [
    {
     "data": {
      "text/plain": [
       "<tf.Tensor: shape=(2, 2), dtype=int32, numpy=\n",
       "array([[0, 0],\n",
       "       [0, 0]], dtype=int32)>"
      ]
     },
     "execution_count": 22,
     "metadata": {},
     "output_type": "execute_result"
    }
   ],
   "source": [
    "tf.fill([2,2], 0)"
   ]
  },
  {
   "cell_type": "code",
   "execution_count": 23,
   "metadata": {},
   "outputs": [
    {
     "data": {
      "text/plain": [
       "<tf.Tensor: shape=(2, 2), dtype=float32, numpy=\n",
       "array([[-0.84262836, -0.86006486],\n",
       "       [ 3.646334  , -0.43252254]], dtype=float32)>"
      ]
     },
     "execution_count": 23,
     "metadata": {},
     "output_type": "execute_result"
    }
   ],
   "source": [
    "tf.random.normal([2,2], mean=1, stddev=1)"
   ]
  },
  {
   "cell_type": "code",
   "execution_count": 24,
   "metadata": {},
   "outputs": [
    {
     "data": {
      "text/plain": [
       "<tf.Tensor: shape=(2, 2), dtype=float32, numpy=\n",
       "array([[-0.47784543,  0.0819713 ],\n",
       "       [-0.3970247 ,  0.17930828]], dtype=float32)>"
      ]
     },
     "execution_count": 24,
     "metadata": {},
     "output_type": "execute_result"
    }
   ],
   "source": [
    "tf.random.truncated_normal([2,2], mean=0, stddev=1)"
   ]
  },
  {
   "cell_type": "code",
   "execution_count": 26,
   "metadata": {},
   "outputs": [
    {
     "data": {
      "text/plain": [
       "<tf.Tensor: shape=(2, 2), dtype=float32, numpy=\n",
       "array([[44.866467, 80.093956],\n",
       "       [27.19109 , 90.69736 ]], dtype=float32)>"
      ]
     },
     "execution_count": 26,
     "metadata": {},
     "output_type": "execute_result"
    }
   ],
   "source": [
    "tf.random.uniform([2,2], minval=0, maxval=200)"
   ]
  },
  {
   "cell_type": "code",
   "execution_count": 28,
   "metadata": {},
   "outputs": [
    {
     "data": {
      "text/plain": [
       "<tf.Tensor: shape=(10,), dtype=int32, numpy=array([6, 4, 1, 9, 0, 3, 7, 5, 2, 8], dtype=int32)>"
      ]
     },
     "execution_count": 28,
     "metadata": {},
     "output_type": "execute_result"
    }
   ],
   "source": [
    "idx = tf.range(10)\n",
    "idx = tf.random.shuffle(idx)\n",
    "idx"
   ]
  },
  {
   "cell_type": "code",
   "execution_count": 29,
   "metadata": {},
   "outputs": [
    {
     "data": {
      "text/plain": [
       "<tf.Tensor: shape=(10,), dtype=int32, numpy=array([4, 9, 0, 7, 4, 1, 9, 9, 2, 3], dtype=int32)>"
      ]
     },
     "execution_count": 29,
     "metadata": {},
     "output_type": "execute_result"
    }
   ],
   "source": [
    "a = tf.random.normal([10, 784])\n",
    "b = tf.random.uniform([10], maxval=10, dtype=tf.int32)\n",
    "b"
   ]
  },
  {
   "cell_type": "code",
   "execution_count": 30,
   "metadata": {},
   "outputs": [
    {
     "data": {
      "text/plain": [
       "<tf.Tensor: shape=(10,), dtype=int32, numpy=array([9, 4, 9, 3, 4, 7, 9, 1, 0, 2], dtype=int32)>"
      ]
     },
     "execution_count": 30,
     "metadata": {},
     "output_type": "execute_result"
    }
   ],
   "source": [
    "a = tf.gather(a, idx)\n",
    "b = tf.gather(b, idx)\n",
    "b"
   ]
  },
  {
   "cell_type": "code",
   "execution_count": 31,
   "metadata": {},
   "outputs": [
    {
     "data": {
      "text/plain": [
       "<tf.Tensor: shape=(4, 10), dtype=float32, numpy=\n",
       "array([[1., 0., 0., 0., 0., 0., 0., 0., 0., 0.],\n",
       "       [0., 1., 0., 0., 0., 0., 0., 0., 0., 0.],\n",
       "       [0., 0., 1., 0., 0., 0., 0., 0., 0., 0.],\n",
       "       [0., 0., 0., 1., 0., 0., 0., 0., 0., 0.]], dtype=float32)>"
      ]
     },
     "execution_count": 31,
     "metadata": {},
     "output_type": "execute_result"
    }
   ],
   "source": [
    "x = tf.random.uniform([4,10])\n",
    "y = tf.range(4)\n",
    "y = tf.one_hot(y, depth=10)\n",
    "y"
   ]
  },
  {
   "cell_type": "code",
   "execution_count": 32,
   "metadata": {},
   "outputs": [
    {
     "data": {
      "text/plain": [
       "<tf.Tensor: shape=(4,), dtype=float32, numpy=array([0.37316224, 0.47690254, 0.1951038 , 0.22647586], dtype=float32)>"
      ]
     },
     "execution_count": 32,
     "metadata": {},
     "output_type": "execute_result"
    }
   ],
   "source": [
    "loss = tf.losses.mse(y, x)\n",
    "loss"
   ]
  },
  {
   "cell_type": "code",
   "execution_count": 33,
   "metadata": {},
   "outputs": [
    {
     "data": {
      "text/plain": [
       "<tf.Tensor: shape=(), dtype=float32, numpy=0.31791112>"
      ]
     },
     "execution_count": 33,
     "metadata": {},
     "output_type": "execute_result"
    }
   ],
   "source": [
    " tf.reduce_mean(loss)"
   ]
  },
  {
   "cell_type": "code",
   "execution_count": 34,
   "metadata": {},
   "outputs": [
    {
     "data": {
      "text/plain": [
       "<tf.Tensor: shape=(), dtype=float32, numpy=0.47690254>"
      ]
     },
     "execution_count": 34,
     "metadata": {},
     "output_type": "execute_result"
    }
   ],
   "source": [
    "tf.reduce_max(loss)"
   ]
  },
  {
   "cell_type": "code",
   "execution_count": 35,
   "metadata": {},
   "outputs": [
    {
     "data": {
      "text/plain": [
       "<tf.Variable 'kernel:0' shape=(8, 10) dtype=float32, numpy=\n",
       "array([[ 0.2560985 , -0.47130007, -0.21836492, -0.23971513, -0.1645943 ,\n",
       "        -0.3124841 , -0.4224923 , -0.42203927, -0.26106152, -0.41792876],\n",
       "       [-0.36025986,  0.4091013 ,  0.09655392,  0.06125951,  0.2893207 ,\n",
       "         0.29439414, -0.49606788,  0.3969766 , -0.18062484,  0.57656157],\n",
       "       [-0.12936321, -0.45882833, -0.34119478,  0.09357572, -0.44086498,\n",
       "         0.2509519 ,  0.1894769 , -0.31860968, -0.45407715, -0.1696012 ],\n",
       "       [-0.38193673, -0.31470245, -0.5710949 , -0.27514416, -0.41926426,\n",
       "         0.02106792,  0.4858507 , -0.54304624, -0.16853455,  0.23771107],\n",
       "       [ 0.46919143,  0.5427618 ,  0.5173875 ,  0.1646254 , -0.56983715,\n",
       "         0.21908742,  0.15927666,  0.00796187, -0.33848375,  0.06156087],\n",
       "       [ 0.11625457, -0.318684  , -0.34059215,  0.0686605 ,  0.12725455,\n",
       "         0.46057606, -0.47211412,  0.07354802, -0.33442372,  0.12601113],\n",
       "       [-0.5591002 ,  0.38597953, -0.26882902,  0.30756044, -0.28801936,\n",
       "        -0.40967685, -0.02228653,  0.00824392,  0.49880195, -0.27719986],\n",
       "       [ 0.317865  , -0.40939343, -0.21586642, -0.23176539, -0.33836097,\n",
       "         0.4363414 ,  0.26780987, -0.31554365, -0.46689233,  0.38168705]],\n",
       "      dtype=float32)>"
      ]
     },
     "execution_count": 35,
     "metadata": {},
     "output_type": "execute_result"
    }
   ],
   "source": [
    "import tensorflow.keras.layers as layers\n",
    "net = layers.Dense(10)\n",
    "net.build((4,8))\n",
    "net.kernel"
   ]
  },
  {
   "cell_type": "code",
   "execution_count": 36,
   "metadata": {},
   "outputs": [
    {
     "data": {
      "text/plain": [
       "<tf.Variable 'bias:0' shape=(10,) dtype=float32, numpy=array([0., 0., 0., 0., 0., 0., 0., 0., 0., 0.], dtype=float32)>"
      ]
     },
     "execution_count": 36,
     "metadata": {},
     "output_type": "execute_result"
    }
   ],
   "source": [
    "net.bias"
   ]
  },
  {
   "cell_type": "code",
   "execution_count": 37,
   "metadata": {},
   "outputs": [
    {
     "data": {
      "text/plain": [
       "<tf.Tensor: shape=(4, 784), dtype=float32, numpy=\n",
       "array([[-1.0446228 ,  0.05430403, -0.5051472 , ...,  0.22594926,\n",
       "         0.28312528,  0.2057791 ],\n",
       "       [-0.6669609 , -0.64986604, -0.6028532 , ...,  0.92446035,\n",
       "         0.31271875, -1.4145143 ],\n",
       "       [ 0.95424646, -1.1847402 , -1.4734404 , ...,  0.538277  ,\n",
       "        -1.5485902 , -0.18081056],\n",
       "       [ 0.6945637 , -0.06869905,  1.1719948 , ..., -0.275786  ,\n",
       "         0.21236877,  0.8309715 ]], dtype=float32)>"
      ]
     },
     "execution_count": 37,
     "metadata": {},
     "output_type": "execute_result"
    }
   ],
   "source": [
    "x = tf.random.normal([4,784])\n",
    "x"
   ]
  },
  {
   "cell_type": "code",
   "execution_count": 38,
   "metadata": {},
   "outputs": [
    {
     "data": {
      "text/plain": [
       "TensorShape([4, 10])"
      ]
     },
     "execution_count": 38,
     "metadata": {},
     "output_type": "execute_result"
    }
   ],
   "source": [
    "net = layers.Dense(10)\n",
    "net.build((4,784))\n",
    "net(x).shape"
   ]
  },
  {
   "cell_type": "code",
   "execution_count": 39,
   "metadata": {},
   "outputs": [
    {
     "data": {
      "text/plain": [
       "TensorShape([784, 10])"
      ]
     },
     "execution_count": 39,
     "metadata": {},
     "output_type": "execute_result"
    }
   ],
   "source": [
    "net.kernel.shape"
   ]
  },
  {
   "cell_type": "code",
   "execution_count": 40,
   "metadata": {},
   "outputs": [
    {
     "data": {
      "text/plain": [
       "TensorShape([10])"
      ]
     },
     "execution_count": 40,
     "metadata": {},
     "output_type": "execute_result"
    }
   ],
   "source": [
    "net.bias.shape"
   ]
  },
  {
   "cell_type": "code",
   "execution_count": 41,
   "metadata": {},
   "outputs": [
    {
     "name": "stdout",
     "output_type": "stream",
     "text": [
      "Downloading data from https://storage.googleapis.com/tensorflow/tf-keras-datasets/imdb.npz\n",
      "17465344/17464789 [==============================] - 2s 0us/step\n",
      "17473536/17464789 [==============================] - 2s 0us/step\n"
     ]
    }
   ],
   "source": [
    "(X_train, y_train), (X_test, y_test) = tf.keras.datasets.imdb.load_data(num_words=10000)\n"
   ]
  },
  {
   "cell_type": "code",
   "execution_count": 42,
   "metadata": {},
   "outputs": [
    {
     "data": {
      "text/plain": [
       "(25000, 80)"
      ]
     },
     "execution_count": 42,
     "metadata": {},
     "output_type": "execute_result"
    }
   ],
   "source": [
    "X_train = tf.keras.preprocessing.sequence.pad_sequences(X_train, maxlen=80)\n",
    "X_train.shape"
   ]
  },
  {
   "cell_type": "code",
   "execution_count": 45,
   "metadata": {},
   "outputs": [
    {
     "data": {
      "text/plain": [
       "TensorShape([25000, 80, 100])"
      ]
     },
     "execution_count": 45,
     "metadata": {},
     "output_type": "execute_result"
    }
   ],
   "source": [
    "embedding = layers.Embedding(10000, 100)\n",
    "emb = embedding(X_train)\n",
    "emb.shape"
   ]
  },
  {
   "cell_type": "code",
   "execution_count": 46,
   "metadata": {},
   "outputs": [
    {
     "data": {
      "text/plain": [
       "array([[  15,  256,    4, ...,   19,  178,   32],\n",
       "       [ 125,   68,    2, ...,   16,  145,   95],\n",
       "       [ 645,  662,    8, ...,    7,  129,  113],\n",
       "       ...,\n",
       "       [ 529,  443,    2, ...,    4, 3586,    2],\n",
       "       [ 286, 1814,   23, ...,   12,    9,   23],\n",
       "       [  97,   90,   35, ...,  204,  131,    9]], dtype=int32)"
      ]
     },
     "execution_count": 46,
     "metadata": {},
     "output_type": "execute_result"
    }
   ],
   "source": [
    "X_train"
   ]
  },
  {
   "cell_type": "code",
   "execution_count": 47,
   "metadata": {},
   "outputs": [
    {
     "data": {
      "text/plain": [
       "numpy.ndarray"
      ]
     },
     "execution_count": 47,
     "metadata": {},
     "output_type": "execute_result"
    }
   ],
   "source": [
    "type(X_train)"
   ]
  },
  {
   "cell_type": "code",
   "execution_count": 48,
   "metadata": {},
   "outputs": [
    {
     "data": {
      "text/plain": [
       "<tf.Tensor: shape=(25000, 80, 100), dtype=float32, numpy=\n",
       "array([[[-0.03549545,  0.01698314,  0.03793411, ..., -0.03077124,\n",
       "         -0.02482761, -0.00470507],\n",
       "        [-0.01821282,  0.04480853, -0.01568804, ..., -0.04572067,\n",
       "          0.00136788,  0.04071904],\n",
       "        [-0.00303494,  0.03200689, -0.04318218, ..., -0.00289723,\n",
       "         -0.01359586, -0.00253434],\n",
       "        ...,\n",
       "        [ 0.02997302, -0.00899875,  0.04301487, ...,  0.02587506,\n",
       "         -0.02537811,  0.03906636],\n",
       "        [ 0.00479629,  0.02998481, -0.00722818, ...,  0.01538411,\n",
       "          0.00922582,  0.00686264],\n",
       "        [ 0.01168407,  0.02245698,  0.04585085, ..., -0.04423083,\n",
       "         -0.01911763,  0.01058823]],\n",
       "\n",
       "       [[-0.04790763,  0.04118916,  0.04989732, ...,  0.04893322,\n",
       "          0.02498287, -0.02169211],\n",
       "        [-0.03103827,  0.00907803,  0.04001968, ...,  0.00279223,\n",
       "          0.04143609, -0.02299179],\n",
       "        [-0.03622925,  0.00261127, -0.00645547, ..., -0.02466977,\n",
       "         -0.01216389, -0.01276566],\n",
       "        ...,\n",
       "        [ 0.00412885,  0.01293452, -0.01038836, ...,  0.03668014,\n",
       "         -0.04208501, -0.00648639],\n",
       "        [ 0.01800391,  0.00753035,  0.01019359, ..., -0.03628223,\n",
       "          0.03706366, -0.02298658],\n",
       "        [-0.03405511, -0.02104278,  0.03109327, ...,  0.02001753,\n",
       "         -0.04908834,  0.00600419]],\n",
       "\n",
       "       [[ 0.03134802,  0.00455642,  0.02441945, ..., -0.04107742,\n",
       "         -0.01191038,  0.04584596],\n",
       "        [ 0.04247091, -0.03831542, -0.00652584, ...,  0.02925188,\n",
       "          0.02596318, -0.00311007],\n",
       "        [-0.04622973,  0.02160079, -0.04559059, ...,  0.01417537,\n",
       "          0.00209919, -0.04773902],\n",
       "        ...,\n",
       "        [-0.01225908,  0.01713241,  0.0019487 , ..., -0.0406213 ,\n",
       "          0.04316391, -0.04232689],\n",
       "        [ 0.01601745, -0.04896925, -0.03568666, ...,  0.03122074,\n",
       "         -0.02597541,  0.03013596],\n",
       "        [ 0.03427071,  0.04338014,  0.01152308, ...,  0.01161952,\n",
       "         -0.02092674,  0.02231557]],\n",
       "\n",
       "       ...,\n",
       "\n",
       "       [[ 0.01998795, -0.03732014,  0.00231975, ..., -0.03951746,\n",
       "          0.00796285, -0.03768554],\n",
       "        [-0.00409223, -0.00721906,  0.03501657, ..., -0.04154513,\n",
       "         -0.02774849,  0.02440834],\n",
       "        [-0.03622925,  0.00261127, -0.00645547, ..., -0.02466977,\n",
       "         -0.01216389, -0.01276566],\n",
       "        ...,\n",
       "        [-0.00303494,  0.03200689, -0.04318218, ..., -0.00289723,\n",
       "         -0.01359586, -0.00253434],\n",
       "        [ 0.03117169, -0.01661611, -0.0447763 , ..., -0.0307086 ,\n",
       "          0.0439661 , -0.0463418 ],\n",
       "        [-0.03622925,  0.00261127, -0.00645547, ..., -0.02466977,\n",
       "         -0.01216389, -0.01276566]],\n",
       "\n",
       "       [[ 0.01332358,  0.02365141, -0.00812297, ...,  0.0252487 ,\n",
       "         -0.00837219, -0.02341719],\n",
       "        [-0.00501081, -0.01029421, -0.0469753 , ..., -0.03249465,\n",
       "          0.03120295,  0.00101455],\n",
       "        [-0.02888485,  0.04759221, -0.00866327, ...,  0.00687619,\n",
       "         -0.04145298,  0.04324109],\n",
       "        ...,\n",
       "        [-0.02208614,  0.01292564, -0.04593448, ..., -0.01212483,\n",
       "         -0.03310581,  0.02233252],\n",
       "        [ 0.01230695,  0.038658  ,  0.03517747, ..., -0.03595702,\n",
       "          0.04936085,  0.04122943],\n",
       "        [-0.02888485,  0.04759221, -0.00866327, ...,  0.00687619,\n",
       "         -0.04145298,  0.04324109]],\n",
       "\n",
       "       [[ 0.02393747, -0.03532762, -0.03550016, ..., -0.00581052,\n",
       "         -0.03915931,  0.01810085],\n",
       "        [ 0.03559898, -0.0155459 ,  0.00187115, ..., -0.03003016,\n",
       "          0.0112777 , -0.02599044],\n",
       "        [-0.00340014,  0.04453177, -0.04295775, ..., -0.04270696,\n",
       "         -0.012861  , -0.0405022 ],\n",
       "        ...,\n",
       "        [-0.04241126,  0.02659044,  0.03122089, ..., -0.03526137,\n",
       "         -0.02853148, -0.03912091],\n",
       "        [ 0.02133581, -0.02108197, -0.01970472, ..., -0.00633319,\n",
       "         -0.04622711, -0.0421248 ],\n",
       "        [ 0.01230695,  0.038658  ,  0.03517747, ..., -0.03595702,\n",
       "          0.04936085,  0.04122943]]], dtype=float32)>"
      ]
     },
     "execution_count": 48,
     "metadata": {},
     "output_type": "execute_result"
    }
   ],
   "source": [
    "emb"
   ]
  },
  {
   "cell_type": "code",
   "execution_count": 49,
   "metadata": {},
   "outputs": [
    {
     "data": {
      "text/plain": [
       "<tf.Tensor: shape=(4, 80, 100), dtype=float32, numpy=\n",
       "array([[[-0.03549545,  0.01698314,  0.03793411, ..., -0.03077124,\n",
       "         -0.02482761, -0.00470507],\n",
       "        [-0.01821282,  0.04480853, -0.01568804, ..., -0.04572067,\n",
       "          0.00136788,  0.04071904],\n",
       "        [-0.00303494,  0.03200689, -0.04318218, ..., -0.00289723,\n",
       "         -0.01359586, -0.00253434],\n",
       "        ...,\n",
       "        [ 0.02997302, -0.00899875,  0.04301487, ...,  0.02587506,\n",
       "         -0.02537811,  0.03906636],\n",
       "        [ 0.00479629,  0.02998481, -0.00722818, ...,  0.01538411,\n",
       "          0.00922582,  0.00686264],\n",
       "        [ 0.01168407,  0.02245698,  0.04585085, ..., -0.04423083,\n",
       "         -0.01911763,  0.01058823]],\n",
       "\n",
       "       [[-0.04790763,  0.04118916,  0.04989732, ...,  0.04893322,\n",
       "          0.02498287, -0.02169211],\n",
       "        [-0.03103827,  0.00907803,  0.04001968, ...,  0.00279223,\n",
       "          0.04143609, -0.02299179],\n",
       "        [-0.03622925,  0.00261127, -0.00645547, ..., -0.02466977,\n",
       "         -0.01216389, -0.01276566],\n",
       "        ...,\n",
       "        [ 0.00412885,  0.01293452, -0.01038836, ...,  0.03668014,\n",
       "         -0.04208501, -0.00648639],\n",
       "        [ 0.01800391,  0.00753035,  0.01019359, ..., -0.03628223,\n",
       "          0.03706366, -0.02298658],\n",
       "        [-0.03405511, -0.02104278,  0.03109327, ...,  0.02001753,\n",
       "         -0.04908834,  0.00600419]],\n",
       "\n",
       "       [[ 0.03134802,  0.00455642,  0.02441945, ..., -0.04107742,\n",
       "         -0.01191038,  0.04584596],\n",
       "        [ 0.04247091, -0.03831542, -0.00652584, ...,  0.02925188,\n",
       "          0.02596318, -0.00311007],\n",
       "        [-0.04622973,  0.02160079, -0.04559059, ...,  0.01417537,\n",
       "          0.00209919, -0.04773902],\n",
       "        ...,\n",
       "        [-0.01225908,  0.01713241,  0.0019487 , ..., -0.0406213 ,\n",
       "          0.04316391, -0.04232689],\n",
       "        [ 0.01601745, -0.04896925, -0.03568666, ...,  0.03122074,\n",
       "         -0.02597541,  0.03013596],\n",
       "        [ 0.03427071,  0.04338014,  0.01152308, ...,  0.01161952,\n",
       "         -0.02092674,  0.02231557]],\n",
       "\n",
       "       [[-0.03622925,  0.00261127, -0.00645547, ..., -0.02466977,\n",
       "         -0.01216389, -0.01276566],\n",
       "        [ 0.03991332, -0.04269069, -0.02305075, ...,  0.01910348,\n",
       "          0.04541601, -0.01129506],\n",
       "        [-0.01950946, -0.00674096,  0.01001064, ..., -0.04256045,\n",
       "          0.03507007,  0.00762492],\n",
       "        ...,\n",
       "        [-0.04386652,  0.04034671,  0.0166392 , ..., -0.03893348,\n",
       "          0.01707364,  0.02147293],\n",
       "        [ 0.01442789,  0.00889514,  0.01538594, ...,  0.0263432 ,\n",
       "          0.02640593,  0.00576266],\n",
       "        [ 0.01572144,  0.041856  , -0.04300166, ...,  0.00628892,\n",
       "          0.02065427, -0.02383303]]], dtype=float32)>"
      ]
     },
     "execution_count": 49,
     "metadata": {},
     "output_type": "execute_result"
    }
   ],
   "source": [
    "emb[:4]"
   ]
  },
  {
   "cell_type": "code",
   "execution_count": 54,
   "metadata": {},
   "outputs": [
    {
     "data": {
      "text/plain": [
       "<tf.Tensor: shape=(4, 256), dtype=float32, numpy=\n",
       "array([[ 0.09489315,  0.00530183, -0.05403531, ..., -0.26488936,\n",
       "        -0.08648812, -0.06432852],\n",
       "       [-0.20160827, -0.11631009,  0.13095579, ...,  0.07085965,\n",
       "         0.01271516, -0.00695578],\n",
       "       [ 0.0725302 ,  0.06075795,  0.0866219 , ..., -0.21874519,\n",
       "         0.00166563,  0.06918591],\n",
       "       [ 0.15150765, -0.16449487, -0.02146837, ...,  0.03766637,\n",
       "         0.15902916,  0.18900436]], dtype=float32)>"
      ]
     },
     "execution_count": 54,
     "metadata": {},
     "output_type": "execute_result"
    }
   ],
   "source": [
    "rnn = layers.SimpleRNN(256)\n",
    "out = rnn(emb[:4])\n",
    "out"
   ]
  },
  {
   "cell_type": "code",
   "execution_count": 56,
   "metadata": {},
   "outputs": [
    {
     "data": {
      "text/plain": [
       "<tf.Tensor: shape=(4, 30, 30, 16), dtype=float32, numpy=\n",
       "array([[[[ 6.85402572e-01,  5.20326793e-01, -5.88445589e-02, ...,\n",
       "           2.57830352e-01,  2.53431141e-01, -7.05935061e-01],\n",
       "         [ 4.46757168e-01, -6.21496081e-01,  2.70653307e-01, ...,\n",
       "           1.28026053e-01,  1.46189332e-01, -7.02892900e-01],\n",
       "         [ 2.86261559e-01, -3.38881910e-01,  6.76926196e-01, ...,\n",
       "           9.34149846e-02, -2.67320156e-01,  9.62250605e-02],\n",
       "         ...,\n",
       "         [-2.24887669e-01,  9.59975898e-01,  1.47894591e-01, ...,\n",
       "           5.76732516e-01, -5.49984217e-01, -2.41283983e-01],\n",
       "         [ 2.74794787e-01, -4.72101092e-01, -4.98782009e-01, ...,\n",
       "           6.98703885e-01,  7.48319924e-01,  6.38418317e-01],\n",
       "         [ 4.66267079e-01,  1.37359664e-01, -2.13428915e-01, ...,\n",
       "          -9.19995233e-02,  1.89875718e-02, -1.62729278e-01]],\n",
       "\n",
       "        [[-1.23679534e-01, -4.64243323e-01, -1.91501155e-01, ...,\n",
       "          -4.48446631e-01,  3.60000908e-01, -3.34385425e-01],\n",
       "         [ 1.02999556e+00, -3.16700846e-01,  7.05406189e-01, ...,\n",
       "          -4.40206498e-01, -2.21476763e-01,  1.79807752e-01],\n",
       "         [ 2.89998084e-01,  3.46277624e-01,  5.76402843e-01, ...,\n",
       "          -7.45601878e-02,  2.78000720e-02,  5.02097830e-02],\n",
       "         ...,\n",
       "         [-4.41549942e-02,  1.67042717e-01, -2.43767858e-01, ...,\n",
       "           1.03147052e-01, -9.21704412e-01, -6.27765656e-01],\n",
       "         [-2.58655787e-01, -4.10299608e-03,  1.41931877e-01, ...,\n",
       "          -1.40001929e+00,  4.89086390e-01, -3.43825728e-01],\n",
       "         [ 4.32112038e-01,  1.74702540e-01,  5.19997954e-01, ...,\n",
       "          -4.09840286e-01, -4.68554437e-01, -3.26211363e-01]],\n",
       "\n",
       "        [[-2.67538726e-01,  9.31366757e-02,  1.40244767e-01, ...,\n",
       "           2.27476150e-01, -6.86923042e-02, -1.49226323e-01],\n",
       "         [-4.98887062e-01,  1.35519698e-01,  5.19771218e-01, ...,\n",
       "           1.00570515e-01, -5.66039741e-01,  4.91599202e-01],\n",
       "         [-3.31359476e-01,  8.63492116e-02, -9.30872321e-01, ...,\n",
       "          -4.33471441e-01, -4.38399389e-02,  7.95983791e-01],\n",
       "         ...,\n",
       "         [ 3.11768323e-01, -6.28506958e-01,  1.09153104e+00, ...,\n",
       "           5.06565750e-01, -8.10580254e-01, -5.03534853e-01],\n",
       "         [-1.02976429e+00, -9.63114858e-01,  1.37822941e-01, ...,\n",
       "           3.22033346e-01,  5.10606408e-01,  4.15038466e-01],\n",
       "         [ 2.04341829e-01, -7.42674572e-03,  1.16636895e-01, ...,\n",
       "           4.00896445e-02, -7.23664701e-01,  5.05744576e-01]],\n",
       "\n",
       "        ...,\n",
       "\n",
       "        [[ 4.44907583e-02, -7.64387846e-01,  8.32352936e-01, ...,\n",
       "          -3.37306559e-01, -5.75544596e-01,  5.10378420e-01],\n",
       "         [ 5.31586647e-01,  9.02294278e-01, -5.68129838e-01, ...,\n",
       "           3.20923269e-01,  6.54556453e-01,  1.02125064e-01],\n",
       "         [-8.88270199e-01, -1.17278956e-01, -6.54312849e-01, ...,\n",
       "           4.53938752e-01,  1.76523313e-01, -1.57222614e-01],\n",
       "         ...,\n",
       "         [-2.88241659e-03,  4.23554182e-01, -8.82831216e-02, ...,\n",
       "          -5.56712389e-01,  5.19659221e-02, -8.08830738e-01],\n",
       "         [-3.32299292e-01,  1.05856219e-02,  7.96450004e-02, ...,\n",
       "           7.43692219e-01, -9.82827619e-02,  5.08679688e-01],\n",
       "         [ 4.67001051e-01,  6.63834214e-01,  1.40670583e-01, ...,\n",
       "          -1.26506376e+00, -5.92821836e-01,  4.05906439e-01]],\n",
       "\n",
       "        [[ 4.61255200e-02,  5.05537868e-01,  2.39379376e-01, ...,\n",
       "           1.43941686e-01, -5.58908544e-02,  8.08500350e-02],\n",
       "         [ 6.09913647e-01, -8.82823527e-01,  6.20672554e-02, ...,\n",
       "          -3.13456953e-01,  2.47224763e-01, -1.27916500e-01],\n",
       "         [-3.51858318e-01,  7.79474974e-01,  4.82465178e-01, ...,\n",
       "           5.94324954e-02, -4.11502644e-02, -2.69017145e-02],\n",
       "         ...,\n",
       "         [ 1.95210487e-01, -6.61045760e-02, -6.72804058e-01, ...,\n",
       "          -3.71741742e-01,  1.56788692e-01, -3.39564860e-01],\n",
       "         [-2.07010195e-01, -1.10850856e-01,  7.01857924e-01, ...,\n",
       "          -7.26266384e-01, -1.05702221e+00, -2.46740237e-01],\n",
       "         [-8.05681467e-01,  1.93771664e-02, -6.84287250e-01, ...,\n",
       "          -4.91028503e-02,  6.39324635e-02,  4.95843410e-01]],\n",
       "\n",
       "        [[ 2.90110081e-01,  3.76537412e-01, -1.89325452e-01, ...,\n",
       "           3.46450001e-01, -8.35739315e-01, -6.46158397e-01],\n",
       "         [-4.58774716e-01, -3.15363258e-01,  6.28015280e-01, ...,\n",
       "          -8.35968032e-02,  1.91320077e-01,  2.84488946e-01],\n",
       "         [-6.11015022e-01, -5.91425896e-01, -2.94182479e-01, ...,\n",
       "           7.62080133e-01,  6.29164696e-01, -1.51387438e-01],\n",
       "         ...,\n",
       "         [ 6.52773142e-01, -5.69739342e-01, -7.28974268e-02, ...,\n",
       "           1.33419007e-01, -1.30193323e-01, -5.37269227e-02],\n",
       "         [-4.66899961e-01, -1.61670968e-01, -1.43644035e-01, ...,\n",
       "           5.77588320e-01, -8.26843202e-01,  5.79986751e-01],\n",
       "         [-8.18457067e-01, -9.35185969e-01,  8.37119043e-01, ...,\n",
       "           4.06229973e-01, -4.94651318e-01,  1.36773729e+00]]],\n",
       "\n",
       "\n",
       "       [[[ 1.07111195e-02, -6.21023476e-02, -8.66177440e-01, ...,\n",
       "           3.91146213e-01,  2.93530732e-01,  1.05070928e-03],\n",
       "         [-2.17034556e-02, -3.07158262e-01, -5.59424460e-01, ...,\n",
       "           9.71339583e-01,  4.76543248e-01, -3.00002813e-01],\n",
       "         [-9.46814477e-01,  6.89703584e-01, -1.21207416e+00, ...,\n",
       "           1.80349827e+00,  3.91188204e-01, -6.70615375e-01],\n",
       "         ...,\n",
       "         [-3.45393002e-01, -3.98914635e-01, -1.14270106e-01, ...,\n",
       "          -6.55536890e-01,  7.58181334e-01, -4.34357494e-01],\n",
       "         [-2.96119571e-01, -4.27148461e-01,  2.54040211e-01, ...,\n",
       "          -7.25419819e-02, -3.59842539e-01, -2.44372189e-01],\n",
       "         [-3.36543828e-01,  2.22173631e-01, -4.28893268e-02, ...,\n",
       "          -6.58280700e-02, -1.28921628e-01,  3.38153213e-01]],\n",
       "\n",
       "        [[ 1.49392620e-01,  5.25766984e-02,  4.01864618e-01, ...,\n",
       "           1.16946854e-01, -4.74892229e-01, -5.44353165e-02],\n",
       "         [ 2.41975576e-01, -5.12025356e-01,  7.87792385e-01, ...,\n",
       "          -3.59505236e-01, -3.25264275e-01,  7.76655912e-01],\n",
       "         [ 3.73742759e-01, -3.69598754e-02,  1.85381547e-01, ...,\n",
       "          -2.05212489e-01, -1.54762998e-01,  8.00661981e-01],\n",
       "         ...,\n",
       "         [-3.71754408e-01, -1.43428445e+00,  1.36676276e+00, ...,\n",
       "           9.95310485e-01, -2.48269007e-01,  8.34610105e-01],\n",
       "         [ 5.07070571e-02,  1.20270562e+00, -7.49493122e-01, ...,\n",
       "           9.54971492e-01, -2.89397627e-01,  6.03857875e-01],\n",
       "         [ 2.88238913e-01,  1.15796097e-01, -7.28492737e-01, ...,\n",
       "           2.10345939e-01,  8.51406574e-01,  2.15731874e-01]],\n",
       "\n",
       "        [[-4.78978306e-01, -7.65263755e-03, -3.24709229e-02, ...,\n",
       "           1.10482931e+00,  1.87349930e-01, -3.76026094e-01],\n",
       "         [-7.06208944e-02, -3.47907335e-01,  7.48281702e-02, ...,\n",
       "           6.40630543e-01,  2.76647229e-02,  7.76147723e-01],\n",
       "         [-1.79798454e-01,  4.95638818e-01, -8.25001597e-01, ...,\n",
       "           4.71550643e-01,  2.89322406e-01, -4.32679683e-01],\n",
       "         ...,\n",
       "         [-2.22612713e-02, -6.19470954e-01,  7.37753630e-01, ...,\n",
       "          -6.58057094e-01,  5.29230684e-02,  6.30190969e-01],\n",
       "         [ 1.44975394e-01,  6.19119167e-01, -5.31221628e-01, ...,\n",
       "           6.32879674e-01, -6.18150592e-01,  8.74967098e-01],\n",
       "         [-1.23969662e+00, -2.92840004e-01, -3.33846003e-01, ...,\n",
       "           5.15520453e-01,  9.06494081e-01,  1.23098653e-06]],\n",
       "\n",
       "        ...,\n",
       "\n",
       "        [[-1.88160419e-01, -5.89755595e-01,  3.38913620e-01, ...,\n",
       "           4.60652292e-01, -1.62532732e-01,  6.16926670e-01],\n",
       "         [ 3.70234013e-01,  8.41606319e-01, -7.84195602e-01, ...,\n",
       "          -5.65609276e-01, -3.29071909e-01,  5.86478472e-01],\n",
       "         [-1.70905545e-01,  3.35076064e-01, -3.64090621e-01, ...,\n",
       "          -2.32277825e-01, -5.46416759e-01, -2.34798901e-02],\n",
       "         ...,\n",
       "         [-1.01536417e+00, -6.57548159e-02, -1.19142853e-01, ...,\n",
       "          -5.24906456e-01,  1.16196558e-01, -3.71295273e-01],\n",
       "         [ 5.11656165e-01, -2.78108269e-01,  7.07276762e-02, ...,\n",
       "           1.56054467e-01,  2.62145936e-01,  1.47063613e-01],\n",
       "         [ 8.15579116e-01, -4.07790959e-01,  1.75242543e-01, ...,\n",
       "          -6.78946674e-01, -1.23424986e-02, -4.55188930e-01]],\n",
       "\n",
       "        [[-5.67764878e-01, -1.70573145e-02,  1.00565410e+00, ...,\n",
       "          -4.18882340e-01, -5.82259238e-01,  3.14344496e-01],\n",
       "         [-4.74949330e-01,  6.67389035e-01, -8.62504184e-01, ...,\n",
       "           2.30323493e-01, -1.30548468e-02, -7.34681487e-02],\n",
       "         [ 2.20489189e-01, -8.00818130e-02,  2.19817385e-01, ...,\n",
       "          -6.86807698e-03,  7.83658028e-03, -3.41111869e-01],\n",
       "         ...,\n",
       "         [ 1.41423598e-01, -5.00449002e-01, -1.93907142e-01, ...,\n",
       "          -5.12890935e-01,  2.50674933e-01,  1.36982656e+00],\n",
       "         [ 8.70932758e-01,  3.71619463e-01,  3.18667620e-01, ...,\n",
       "          -2.48299450e-01, -4.75178391e-01, -8.99905711e-02],\n",
       "         [-1.82826705e-02,  2.33354956e-01, -6.77957952e-01, ...,\n",
       "           2.71569282e-01,  1.02809429e+00, -3.32395256e-01]],\n",
       "\n",
       "        [[-5.37600696e-01, -2.88645387e-01,  5.08580923e-01, ...,\n",
       "           9.39168096e-01,  1.83751862e-02,  8.70316088e-01],\n",
       "         [-3.75508010e-01,  8.50538254e-01, -7.33389735e-01, ...,\n",
       "          -7.54301667e-01, -6.90060973e-01,  2.77386963e-01],\n",
       "         [-2.86255687e-01, -4.04884815e-01,  6.69054925e-01, ...,\n",
       "          -1.10961698e-01, -2.91733682e-01,  8.32160488e-02],\n",
       "         ...,\n",
       "         [-4.72571701e-01,  4.58379418e-01, -6.09854460e-02, ...,\n",
       "          -1.15064077e-01, -2.70743519e-01, -3.92703027e-01],\n",
       "         [-9.00824130e-01, -9.36782546e-03,  3.51505071e-01, ...,\n",
       "          -2.00488299e-01, -2.50374138e-01, -3.11102867e-01],\n",
       "         [ 4.44009930e-01, -1.08911231e-01,  5.10084569e-01, ...,\n",
       "           4.96788234e-01,  1.86075732e-01,  4.76736486e-01]]],\n",
       "\n",
       "\n",
       "       [[[-2.10568592e-01, -4.48094338e-01,  3.66349399e-01, ...,\n",
       "           3.00179899e-01, -3.13282937e-01,  5.55430472e-01],\n",
       "         [ 4.45164591e-01, -7.27285385e-01, -2.65924007e-01, ...,\n",
       "          -4.55608755e-01,  6.58338726e-01, -4.98468876e-02],\n",
       "         [ 5.45783401e-01, -1.85109839e-01,  1.09820819e+00, ...,\n",
       "           1.45663232e-01, -4.75780636e-01,  4.76456210e-02],\n",
       "         ...,\n",
       "         [ 5.23525476e-01,  3.49649638e-01,  1.54399157e-01, ...,\n",
       "           1.49834499e-01,  6.55494571e-01,  1.17278378e-02],\n",
       "         [ 2.82476723e-01,  1.01079071e+00, -6.76024318e-01, ...,\n",
       "           1.02863753e+00,  3.76533478e-01, -2.11501732e-01],\n",
       "         [-1.24559820e-01,  5.33541515e-02, -3.20388079e-01, ...,\n",
       "          -7.42313921e-01, -6.16809249e-01, -4.23508696e-02]],\n",
       "\n",
       "        [[ 1.96565151e-01,  3.49680007e-01, -8.81887004e-02, ...,\n",
       "           6.84833050e-01, -9.81034897e-03, -1.61346495e-01],\n",
       "         [ 5.25973260e-01,  1.10035114e-01, -4.67142671e-01, ...,\n",
       "          -3.04242253e-01, -9.75956907e-04, -4.25661653e-02],\n",
       "         [-2.03745291e-01, -6.63757324e-01,  9.87357736e-01, ...,\n",
       "          -9.81441379e-01, -1.37954373e-02, -4.07094061e-01],\n",
       "         ...,\n",
       "         [-4.51304078e-01, -5.74965894e-01,  4.54957515e-01, ...,\n",
       "          -8.85429621e-01, -1.54691145e-01,  3.16105157e-01],\n",
       "         [-1.83646485e-01,  7.58378327e-01, -3.54318589e-01, ...,\n",
       "          -5.55465221e-01, -3.74791265e-01, -4.19213861e-01],\n",
       "         [ 1.04261406e-01, -1.18301511e-01,  2.42440239e-01, ...,\n",
       "           3.53614420e-01,  4.04476792e-01, -5.13316810e-01]],\n",
       "\n",
       "        [[ 7.77598470e-02,  1.49221465e-01, -9.20597166e-02, ...,\n",
       "          -1.43021196e-01,  4.52463001e-01, -4.78755385e-01],\n",
       "         [ 6.66981339e-01, -7.82809686e-03, -3.45554739e-01, ...,\n",
       "          -3.25445205e-01,  7.39367818e-03, -1.14681494e+00],\n",
       "         [ 3.33829284e-01, -8.77909839e-01,  8.31570208e-01, ...,\n",
       "           6.40514493e-02,  1.93053149e-02,  2.05417052e-01],\n",
       "         ...,\n",
       "         [ 4.47241306e-01, -2.96805233e-01,  3.94682556e-01, ...,\n",
       "          -1.34938182e-02,  3.35656735e-03, -8.79437700e-02],\n",
       "         [ 3.94665748e-01,  6.91745639e-01, -8.06391001e-01, ...,\n",
       "           6.96473300e-01, -6.07278720e-02, -6.49864078e-01],\n",
       "         [-6.70265704e-02, -6.33973777e-01,  6.30025148e-01, ...,\n",
       "           9.99102771e-01, -1.30551413e-01,  1.34826243e-01]],\n",
       "\n",
       "        ...,\n",
       "\n",
       "        [[ 2.10123911e-01,  5.14685094e-01,  1.34972647e-01, ...,\n",
       "          -2.41252407e-02, -5.02386570e-01,  6.14322610e-02],\n",
       "         [ 1.09801978e-01,  1.46857977e-01, -2.73109764e-01, ...,\n",
       "           1.31177604e-01,  1.60566911e-01,  5.15113056e-01],\n",
       "         [-1.16296411e-01, -1.76793262e-01,  4.30783719e-01, ...,\n",
       "          -4.91170526e-01, -4.67914104e-01,  9.42524225e-02],\n",
       "         ...,\n",
       "         [-3.99590939e-01,  7.63191104e-01, -7.47073472e-01, ...,\n",
       "          -2.39134669e-01, -6.22951448e-01,  6.14408135e-01],\n",
       "         [ 1.37809291e-01,  5.48306763e-01, -3.60087037e-01, ...,\n",
       "           5.74955106e-01,  6.00352108e-01, -3.92606497e-01],\n",
       "         [-2.68626094e-01, -2.46555328e-01, -4.83772635e-01, ...,\n",
       "           8.59287500e-01,  8.42732430e-01, -5.23446321e-01]],\n",
       "\n",
       "        [[-6.63589954e-01,  2.48769209e-01,  2.98607916e-01, ...,\n",
       "           1.75374940e-01,  2.82450183e-03,  4.74661499e-01],\n",
       "         [ 8.22667778e-01,  4.60447490e-01, -3.58994603e-01, ...,\n",
       "          -3.96583766e-01, -4.81557548e-01,  1.44965500e-01],\n",
       "         [-5.71916223e-01, -5.97818851e-01,  7.80951023e-01, ...,\n",
       "          -4.57725525e-01, -4.57718641e-01,  1.85296923e-01],\n",
       "         ...,\n",
       "         [-6.42378390e-01,  3.65897954e-01,  2.77347386e-01, ...,\n",
       "           9.81983840e-02, -1.01868689e+00, -2.68593431e-01],\n",
       "         [-8.14433455e-01, -4.01955277e-01, -7.92711601e-02, ...,\n",
       "          -7.74254918e-01, -1.87173218e-01,  2.35446632e-01],\n",
       "         [ 1.22797981e-01,  1.93892300e-01,  4.66594428e-01, ...,\n",
       "           2.32854754e-01,  2.40888119e-01,  8.55213821e-01]],\n",
       "\n",
       "        [[-2.29840755e-01,  9.26606536e-01,  1.52547853e-02, ...,\n",
       "           5.79773009e-01,  2.52129793e-01, -1.21120900e-01],\n",
       "         [-3.68845522e-01,  4.67898697e-01, -1.78719714e-01, ...,\n",
       "           6.18121564e-01, -4.73684996e-01,  9.77337286e-02],\n",
       "         [ 2.93932438e-01,  3.84906270e-02,  6.05164945e-01, ...,\n",
       "          -7.31385946e-01,  8.97168461e-03,  4.69491422e-01],\n",
       "         ...,\n",
       "         [-5.68367720e-01,  1.90088123e-01,  3.17121834e-01, ...,\n",
       "           2.96654642e-01, -1.05972183e+00,  9.02799368e-02],\n",
       "         [ 5.68936467e-01,  2.12053671e-01, -3.81381840e-01, ...,\n",
       "          -1.10229754e+00,  3.81522745e-01, -3.14812243e-01],\n",
       "         [ 1.28952116e-01,  3.49740356e-01, -8.16706121e-02, ...,\n",
       "          -2.11687684e-01, -8.56464684e-01, -4.89429355e-01]]],\n",
       "\n",
       "\n",
       "       [[[-5.80783188e-01,  6.35422990e-02, -6.30100220e-02, ...,\n",
       "           3.72356534e-01, -1.53644383e-01,  1.84261546e-01],\n",
       "         [-5.77277280e-02,  1.69573382e-01,  7.98205659e-03, ...,\n",
       "           4.06929314e-01,  6.39021099e-01,  1.21559381e+00],\n",
       "         [ 1.19274959e-01,  6.32851601e-01, -7.81991780e-01, ...,\n",
       "          -2.84524970e-02, -1.38875663e-01, -7.76645422e-01],\n",
       "         ...,\n",
       "         [-1.03804417e-01,  1.27165750e-01,  2.50528187e-01, ...,\n",
       "           1.78764746e-01,  6.70825183e-01,  4.33519930e-01],\n",
       "         [ 8.44428778e-01,  5.61414838e-01, -5.57301581e-01, ...,\n",
       "          -3.65627199e-01,  2.20682994e-01,  5.53292155e-01],\n",
       "         [-2.74233371e-01,  3.58247250e-01,  7.23984599e-01, ...,\n",
       "           2.69860685e-01, -6.19607210e-01, -5.62451303e-01]],\n",
       "\n",
       "        [[-7.44569898e-02,  1.33238986e-01,  3.29052091e-01, ...,\n",
       "          -1.05300814e-01,  5.73626101e-01, -8.79345417e-01],\n",
       "         [-4.55782622e-01, -3.01244587e-01,  6.25952899e-01, ...,\n",
       "          -2.12154210e-01, -4.54834938e-01,  1.97920173e-01],\n",
       "         [-8.31901878e-02,  5.98249376e-01, -6.69817984e-01, ...,\n",
       "          -4.08374906e-01, -3.75342593e-02, -4.57105696e-01],\n",
       "         ...,\n",
       "         [ 1.21177152e-01, -2.01377273e-01,  2.05138341e-01, ...,\n",
       "          -5.62882185e-01,  1.05544376e+00,  1.12276217e-02],\n",
       "         [ 9.28269401e-02,  2.00365156e-01, -4.74122703e-01, ...,\n",
       "          -4.23714489e-01, -4.90959972e-01, -4.82804924e-01],\n",
       "         [ 3.52539599e-01, -2.50467360e-01,  1.16604221e+00, ...,\n",
       "          -2.68992364e-01, -5.77430904e-01, -9.06501174e-01]],\n",
       "\n",
       "        [[ 4.79558647e-01, -2.99174160e-01, -2.09555149e-01, ...,\n",
       "           2.87382483e-01,  9.76978362e-01,  3.52093190e-01],\n",
       "         [-3.29231650e-01,  2.56011840e-02, -2.92310659e-02, ...,\n",
       "          -5.71114048e-02,  3.45636100e-01, -3.93357389e-02],\n",
       "         [ 7.71174133e-01, -1.60596281e-01,  3.83128256e-01, ...,\n",
       "          -8.53600875e-02, -3.11287791e-01, -6.76948965e-01],\n",
       "         ...,\n",
       "         [-1.16035238e-01, -1.20352373e-01, -8.52268636e-01, ...,\n",
       "          -3.72279048e-01,  8.86539936e-01, -4.24002260e-01],\n",
       "         [-9.40165699e-01, -9.99596655e-01,  2.90999889e-01, ...,\n",
       "           3.09918374e-01,  1.26515217e-02, -3.12830985e-01],\n",
       "         [ 7.55034685e-01, -3.73101652e-01,  2.81225532e-01, ...,\n",
       "           4.95849103e-02, -7.06097037e-02, -1.91189393e-01]],\n",
       "\n",
       "        ...,\n",
       "\n",
       "        [[-6.10272065e-02,  4.57268983e-01, -3.31655145e-01, ...,\n",
       "           9.61964875e-02, -8.05706918e-01,  4.69016433e-01],\n",
       "         [-3.67444038e-01, -9.00732949e-02,  4.70044971e-01, ...,\n",
       "          -8.32050383e-01, -9.87650380e-02, -4.00577903e-01],\n",
       "         [ 3.99849814e-04, -5.71757615e-01,  4.32926742e-03, ...,\n",
       "          -2.09902272e-01,  2.95930207e-01,  1.57098010e-01],\n",
       "         ...,\n",
       "         [-5.81517927e-02, -6.47814929e-01,  8.59689236e-01, ...,\n",
       "           2.33107194e-01, -2.42300823e-01,  6.65181518e-01],\n",
       "         [-9.80669260e-01,  7.88808390e-02, -7.37799466e-01, ...,\n",
       "          -2.36057729e-01,  8.72700736e-02,  3.30642700e-01],\n",
       "         [ 2.21552551e-02,  5.79619229e-01, -1.49744242e-01, ...,\n",
       "          -9.65013281e-02, -7.32804298e-01,  8.44680011e-01]],\n",
       "\n",
       "        [[ 2.09151492e-01,  7.58164227e-01, -5.22563308e-02, ...,\n",
       "           7.00812519e-01, -5.61104894e-01, -5.41311502e-01],\n",
       "         [ 4.63789344e-01, -3.17858249e-01,  7.23698065e-02, ...,\n",
       "          -3.35678548e-01,  5.07304817e-02,  4.61378932e-01],\n",
       "         [-7.76897430e-01,  7.02973977e-02, -6.29435241e-01, ...,\n",
       "           8.82107243e-02,  5.28010093e-02, -2.27667391e-01],\n",
       "         ...,\n",
       "         [-2.32492954e-01, -1.25956893e-01,  3.08267549e-02, ...,\n",
       "          -6.07223392e-01, -5.78111224e-02,  7.21260667e-01],\n",
       "         [ 3.48838985e-01,  5.52528560e-01,  2.39592213e-02, ...,\n",
       "          -2.69207150e-01, -4.65217978e-01, -1.14240408e-01],\n",
       "         [-1.20038159e-01,  8.34951282e-01, -3.23879719e-01, ...,\n",
       "           5.53901672e-01, -6.29551560e-02, -2.95295477e-01]],\n",
       "\n",
       "        [[-4.75285441e-01,  7.77222157e-01, -6.65913403e-01, ...,\n",
       "           1.32309151e+00,  4.94067371e-02, -3.73972207e-01],\n",
       "         [-7.69857049e-01, -3.02276224e-01, -2.87485542e-03, ...,\n",
       "           9.49444056e-01,  9.69513357e-01, -4.92259562e-02],\n",
       "         [ 1.17056561e+00,  9.42046046e-02, -1.89763196e-02, ...,\n",
       "           1.67765006e-01, -1.82660773e-01, -4.19995517e-01],\n",
       "         ...,\n",
       "         [-5.13800323e-01, -5.71835399e-01,  5.45007885e-01, ...,\n",
       "          -1.87633649e-01, -1.88963950e-01, -2.64227182e-01],\n",
       "         [ 4.46005911e-01,  2.57795781e-01,  6.51658297e-01, ...,\n",
       "          -9.57547352e-02, -8.65519881e-01, -1.06013544e-01],\n",
       "         [-8.82371545e-01, -5.60389608e-02, -4.11589861e-01, ...,\n",
       "           3.11877131e-01,  6.70487344e-01, -2.94013947e-01]]]],\n",
       "      dtype=float32)>"
      ]
     },
     "execution_count": 56,
     "metadata": {},
     "output_type": "execute_result"
    }
   ],
   "source": [
    "x = tf.random.normal((4, 32,32,3))\n",
    "net = layers.Conv2D(16, kernel_size=3)\n",
    "net(x)"
   ]
  },
  {
   "cell_type": "code",
   "execution_count": null,
   "metadata": {},
   "outputs": [],
   "source": []
  }
 ],
 "metadata": {
  "interpreter": {
   "hash": "1818eede15cb1ed47fb467097a2f9111c2d773f5055dd3d4a448c36b65ae3af8"
  },
  "kernelspec": {
   "display_name": "Python 3.7.13 ('tf2')",
   "language": "python",
   "name": "python3"
  },
  "language_info": {
   "codemirror_mode": {
    "name": "ipython",
    "version": 3
   },
   "file_extension": ".py",
   "mimetype": "text/x-python",
   "name": "python",
   "nbconvert_exporter": "python",
   "pygments_lexer": "ipython3",
   "version": "3.7.13"
  },
  "orig_nbformat": 4
 },
 "nbformat": 4,
 "nbformat_minor": 2
}
