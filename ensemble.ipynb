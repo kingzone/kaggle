{
 "cells": [
  {
   "cell_type": "code",
   "execution_count": 1,
   "metadata": {
    "collapsed": false
   },
   "outputs": [
    {
     "name": "stdout",
     "output_type": "stream",
     "text": [
      "accuracy of decision tree is  0.781155015198\n",
      "             precision    recall  f1-score   support\n",
      "\n",
      "       died       0.91      0.78      0.84       236\n",
      "   suivived       0.58      0.80      0.67        93\n",
      "\n",
      "avg / total       0.81      0.78      0.79       329\n",
      "\n",
      "accuracy of random forest classifier is  0.784194528875\n",
      "             precision    recall  f1-score   support\n",
      "\n",
      "       died       0.91      0.78      0.84       235\n",
      "   suivived       0.59      0.80      0.68        94\n",
      "\n",
      "avg / total       0.82      0.78      0.79       329\n",
      "\n",
      "accuracy of gradient boosting decision tree is  0.790273556231\n",
      "             precision    recall  f1-score   support\n",
      "\n",
      "       died       0.92      0.78      0.84       239\n",
      "   suivived       0.58      0.82      0.68        90\n",
      "\n",
      "avg / total       0.83      0.79      0.80       329\n",
      "\n"
     ]
    },
    {
     "name": "stderr",
     "output_type": "stream",
     "text": [
      "/Users/ifeng/anaconda2/lib/python2.7/site-packages/pandas/core/generic.py:3295: SettingWithCopyWarning: \n",
      "A value is trying to be set on a copy of a slice from a DataFrame\n",
      "\n",
      "See the caveats in the documentation: http://pandas.pydata.org/pandas-docs/stable/indexing.html#indexing-view-versus-copy\n",
      "  self._update_inplace(new_data)\n",
      "/Users/ifeng/anaconda2/lib/python2.7/site-packages/sklearn/cross_validation.py:44: DeprecationWarning: This module was deprecated in version 0.18 in favor of the model_selection module into which all the refactored classes and functions are moved. Also note that the interface of the new CV iterators are different from that of this module. This module will be removed in 0.20.\n",
      "  \"This module will be removed in 0.20.\", DeprecationWarning)\n"
     ]
    }
   ],
   "source": [
    "import pandas as pd\n",
    "titanic=pd.read_csv('http://biostat.mc.vanderbilt.edu/wiki/pub/Main/DataSets/titanic.txt')\n",
    "X=titanic[['pclass','age','sex']]\n",
    "y=titanic['survived']\n",
    "X['age'].fillna(X['age'].mean(),inplace=True)\n",
    "from sklearn.cross_validation import train_test_split\n",
    "X_train,X_test,y_train,y_test=train_test_split(X,y,test_size=0.25,random_state=33)\n",
    "from sklearn.feature_extraction import DictVectorizer\n",
    "vec=DictVectorizer(sparse=False)\n",
    "X_train=vec.fit_transform(X_train.to_dict(orient='record'))\n",
    "X_test=vec.transform(X_test.to_dict(orient='record'))\n",
    "from sklearn.tree import DecisionTreeClassifier\n",
    "dtc=DecisionTreeClassifier()\n",
    "dtc.fit(X_train,y_train)\n",
    "dtc_y_pred=dtc.predict(X_test)\n",
    "from sklearn.ensemble import RandomForestClassifier\n",
    "rfc=RandomForestClassifier()\n",
    "rfc.fit(X_train,y_train)\n",
    "rfc_y_pred=rfc.predict(X_test)\n",
    "from sklearn.ensemble import GradientBoostingClassifier\n",
    "gbc=GradientBoostingClassifier()\n",
    "gbc.fit(X_train,y_train)\n",
    "gbc_y_pred=gbc.predict(X_test)\n",
    "from sklearn.metrics import classification_report\n",
    "print 'accuracy of decision tree is ',dtc.score(X_test,y_test)\n",
    "print classification_report(dtc_y_pred,y_test,target_names=['died','suivived'])\n",
    "print 'accuracy of random forest classifier is ',rfc.score(X_test,y_test)\n",
    "print classification_report(rfc_y_pred,y_test,target_names=['died','suivived'])\n",
    "print 'accuracy of gradient boosting decision tree is ',gbc.score(X_test,y_test)\n",
    "print classification_report(gbc_y_pred,y_test,target_names=['died','suivived'])"
   ]
  }
 ],
 "metadata": {
  "kernelspec": {
   "display_name": "Python 2",
   "language": "python",
   "name": "python2"
  },
  "language_info": {
   "codemirror_mode": {
    "name": "ipython",
    "version": 2
   },
   "file_extension": ".py",
   "mimetype": "text/x-python",
   "name": "python",
   "nbconvert_exporter": "python",
   "pygments_lexer": "ipython2",
   "version": "2.7.13"
  }
 },
 "nbformat": 4,
 "nbformat_minor": 2
}
