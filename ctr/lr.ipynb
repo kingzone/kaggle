{
 "cells": [
  {
   "cell_type": "code",
   "execution_count": 2,
   "metadata": {},
   "outputs": [],
   "source": [
    "\"\"\"\n",
    "a demo of LR-based Avazu-CTR prediction.\n",
    "    \n",
    "    1.apply one-hot transform to dataset.\n",
    "    2.using SGDClassifier for the training of Logistic Regression.\n",
    "    3.predicting to generate submission.\n",
    "    \n",
    "\"\"\"\n",
    "\n",
    "##==================== Package ====================##\n",
    "import pandas as pd\n",
    "import numpy as np\n",
    "from dummyPy import OneHotEncoder  # for one-hot encoding on a large scale of chunks\n",
    "from sklearn.linear_model import SGDClassifier  # using SGDClassifier for training incrementally\n",
    "from sklearn.metrics import log_loss\n",
    "import matplotlib.pyplot as plt \n",
    "import pickle\n"
   ]
  },
  {
   "cell_type": "code",
   "execution_count": 4,
   "metadata": {},
   "outputs": [],
   "source": [
    "##==================== File-Path (fp) ====================##\n",
    "## data after selecting features (LR_fun needed)\n",
    "## and setting rare categories' value to 'other' (feature filtering)\n",
    "fp_train_f = \"../Datasets/ctr/train_f.csv\"\n",
    "fp_test_f  = \"../Datasets/ctr/test_f.csv\"\n",
    "\n",
    "## one-hot encoder\n",
    "fp_oh_enc = \"../Datasets/ctr/oh_enc\"\n",
    "\n",
    "## lr-model\n",
    "fp_lr_model = \"../Datasets/ctr/lr/lr_model\"\n",
    "\n",
    "## submission files\n",
    "fp_sub = \"../Datasets/ctr/lr/LR_submission.csv\"\n"
   ]
  },
  {
   "cell_type": "code",
   "execution_count": 5,
   "metadata": {},
   "outputs": [
    {
     "ename": "IOError",
     "evalue": "[Errno 2] No such file or directory: '../Datasets/ctr/oh_enc'",
     "output_type": "error",
     "traceback": [
      "\u001b[0;31m---------------------------------------------------------------------------\u001b[0m",
      "\u001b[0;31mIOError\u001b[0m                                   Traceback (most recent call last)",
      "\u001b[0;32m<ipython-input-5-df56f74cc406>\u001b[0m in \u001b[0;36m<module>\u001b[0;34m()\u001b[0m\n\u001b[1;32m      1\u001b[0m \u001b[0;31m##==================== LR training ====================##\u001b[0m\u001b[0;34m\u001b[0m\u001b[0;34m\u001b[0m\u001b[0m\n\u001b[0;32m----> 2\u001b[0;31m \u001b[0moh_enc\u001b[0m \u001b[0;34m=\u001b[0m \u001b[0mpickle\u001b[0m\u001b[0;34m.\u001b[0m\u001b[0mload\u001b[0m\u001b[0;34m(\u001b[0m\u001b[0mopen\u001b[0m\u001b[0;34m(\u001b[0m\u001b[0mfp_oh_enc\u001b[0m\u001b[0;34m,\u001b[0m \u001b[0;34m'rb'\u001b[0m\u001b[0;34m)\u001b[0m\u001b[0;34m)\u001b[0m\u001b[0;34m\u001b[0m\u001b[0m\n\u001b[0m\u001b[1;32m      3\u001b[0m \u001b[0;34m\u001b[0m\u001b[0m\n\u001b[1;32m      4\u001b[0m df_train_f = pd.read_csv(fp_train_f, dtype={'id':str},\n\u001b[1;32m      5\u001b[0m                          \u001b[0mindex_col\u001b[0m\u001b[0;34m=\u001b[0m\u001b[0mNone\u001b[0m\u001b[0;34m,\u001b[0m\u001b[0;34m\u001b[0m\u001b[0m\n",
      "\u001b[0;31mIOError\u001b[0m: [Errno 2] No such file or directory: '../Datasets/ctr/oh_enc'"
     ]
    }
   ],
   "source": [
    "##==================== LR training ====================##\n",
    "oh_enc = pickle.load(open(fp_oh_enc, 'rb'))\n",
    "\n",
    "df_train_f = pd.read_csv(fp_train_f, dtype={'id':str},\n",
    "                         index_col=None,\n",
    "                         chunksize=10000, iterator=True)\n",
    "\n",
    "lr_model = SGDClassifier(loss='log')  # using log-loss for LogisticRegression\n",
    "scores = []\n"
   ]
  },
  {
   "cell_type": "code",
   "execution_count": null,
   "metadata": {},
   "outputs": [],
   "source": []
  }
 ],
 "metadata": {
  "kernelspec": {
   "display_name": "Python 2",
   "language": "python",
   "name": "python2"
  },
  "language_info": {
   "codemirror_mode": {
    "name": "ipython",
    "version": 2
   },
   "file_extension": ".py",
   "mimetype": "text/x-python",
   "name": "python",
   "nbconvert_exporter": "python",
   "pygments_lexer": "ipython2",
   "version": "2.7.15"
  }
 },
 "nbformat": 4,
 "nbformat_minor": 2
}
