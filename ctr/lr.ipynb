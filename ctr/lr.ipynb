{
 "cells": [
  {
   "cell_type": "code",
   "execution_count": 2,
   "metadata": {},
   "outputs": [],
   "source": [
    "\"\"\"\n",
    "a demo of LR-based Avazu-CTR prediction.\n",
    "    \n",
    "    1.apply one-hot transform to dataset.\n",
    "    2.using SGDClassifier for the training of Logistic Regression.\n",
    "    3.predicting to generate submission.\n",
    "    \n",
    "\"\"\"\n",
    "\n",
    "##==================== Package ====================##\n",
    "import pandas as pd\n",
    "import numpy as np\n",
    "from dummyPy import OneHotEncoder  # for one-hot encoding on a large scale of chunks\n",
    "from sklearn.linear_model import SGDClassifier  # using SGDClassifier for training incrementally\n",
    "from sklearn.metrics import log_loss\n",
    "import matplotlib.pyplot as plt \n",
    "import pickle\n"
   ]
  },
  {
   "cell_type": "code",
   "execution_count": 5,
   "metadata": {},
   "outputs": [],
   "source": [
    "##==================== File-Path (fp) ====================##\n",
    "## data after selecting features (LR_fun needed)\n",
    "## and setting rare categories' value to 'other' (feature filtering)\n",
    "fp_train_f = \"../../Datasets/ctr/train_f.csv\"\n",
    "fp_test_f  = \"../../Datasets/ctr/test_f.csv\"\n",
    "\n",
    "## one-hot encoder\n",
    "fp_oh_enc = \"../../Datasets/ctr/oh_enc\"\n",
    "\n",
    "## lr-model\n",
    "fp_lr_model = \"../../Datasets/ctr/lr/lr_model\"\n",
    "\n",
    "## submission files\n",
    "fp_sub = \"../../Datasets/ctr/lr/LR_submission.csv\"\n"
   ]
  },
  {
   "cell_type": "code",
   "execution_count": 6,
   "metadata": {},
   "outputs": [],
   "source": [
    "##==================== LR training ====================##\n",
    "oh_enc = pickle.load(open(fp_oh_enc, 'rb'))\n",
    "\n",
    "df_train_f = pd.read_csv(fp_train_f, dtype={'id':str},\n",
    "                         index_col=None,\n",
    "                         chunksize=10000, iterator=True)\n",
    "\n",
    "lr_model = SGDClassifier(loss='log')  # using log-loss for LogisticRegression\n",
    "scores = []\n"
   ]
  },
  {
   "cell_type": "code",
   "execution_count": 9,
   "metadata": {},
   "outputs": [],
   "source": [
    "k = 1  # using k and i to control the training scale (training_samples used = (all_samples / k)\n",
    "i = 1\n",
    "for chunk in df_train_f:\n",
    "    if i < k: \n",
    "        i += 1\n",
    "        continue\n",
    "    i = 1\n",
    "    df_train = oh_enc.transform(chunk)\n",
    "    #----- training LR -----#\n",
    "    feature_train = df_train.columns.drop(['id', 'click'])\n",
    "    train_X = df_train[feature_train]\n",
    "    train_y = df_train['click'].astype('int')\n",
    "    lr_model.partial_fit(train_X, train_y, classes = [0,1])  # fitting\n",
    "    \n",
    "    # the score of training\n",
    "    y_pred = lr_model.predict_proba(train_X)[:, 1]\n",
    "    score = log_loss(train_y, y_pred)\n",
    "    scores.append(score)\n",
    "\n",
    "## store the pre-trained lr_model\n",
    "pickle.dump(lr_model, open(fp_lr_model, 'wb'))\n"
   ]
  },
  {
   "cell_type": "code",
   "execution_count": 10,
   "metadata": {},
   "outputs": [
    {
     "data": {
      "image/png": "[encoded data removed]",
      "text/plain": [
       "<Figure size 432x288 with 1 Axes>"
      ]
     },
     "metadata": {},
     "output_type": "display_data"
    }
   ],
   "source": [
    "## show the training curve\n",
    "f1 = plt.figure(1)\n",
    "plt.plot(scores)\n",
    "plt.xlabel('iterations')\n",
    "plt.ylabel('log_loss')\n",
    "plt.title('log_loss of training')\n",
    "plt.grid()\n",
    "plt.show()\n"
   ]
  },
  {
   "cell_type": "code",
   "execution_count": 11,
   "metadata": {},
   "outputs": [
    {
     "name": "stdout",
     "output_type": "stream",
     "text": [
      " - PY131 - \n"
     ]
    }
   ],
   "source": [
    "##==================== prediction and generation of submissions ====================##\n",
    "df_test_f = pd.read_csv(fp_test_f, \n",
    "                        dtype={'id':str}, \n",
    "                        index_col=None,\n",
    "                        chunksize=50000, iterator=True)        \n",
    "\n",
    "lr_model = pickle.load(open(fp_lr_model, 'rb'))\n",
    "\n",
    "hd = True\n",
    "for chunk in df_test_f:\n",
    "    df_test = oh_enc.transform(chunk)\n",
    "    #----- predict -----#\n",
    "    feature_test = df_test.columns.drop(['id'])\n",
    "    test_X = df_test[feature_test]\n",
    "    y_pred = lr_model.predict_proba(test_X)[:, 1]  # get the probability of class 1\n",
    "    #----- generation of submission -----#\n",
    "    chunk['click'] = y_pred\n",
    "    with open(fp_sub, 'a') as f: \n",
    "        chunk.to_csv(f, columns=['id', 'click'], header=hd, index=False) \n",
    "    hd = False\n",
    "\n",
    "print(' - PY131 - ')"
   ]
  },
  {
   "cell_type": "code",
   "execution_count": null,
   "metadata": {},
   "outputs": [],
   "source": []
  }
 ],
 "metadata": {
  "kernelspec": {
   "display_name": "Python 2",
   "language": "python",
   "name": "python2"
  },
  "language_info": {
   "codemirror_mode": {
    "name": "ipython",
    "version": 2
   },
   "file_extension": ".py",
   "mimetype": "text/x-python",
   "name": "python",
   "nbconvert_exporter": "python",
   "pygments_lexer": "ipython2",
   "version": "2.7.15"
  }
 },
 "nbformat": 4,
 "nbformat_minor": 2
}
